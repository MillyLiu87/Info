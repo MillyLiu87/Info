{
  "nbformat": 4,
  "nbformat_minor": 0,
  "metadata": {
    "colab": {
      "provenance": [],
      "authorship_tag": "ABX9TyNA8+E1brnFXzwAIav4L7ss",
      "include_colab_link": true
    },
    "kernelspec": {
      "name": "python3",
      "display_name": "Python 3"
    },
    "language_info": {
      "name": "python"
    }
  },
  "cells": [
    {
      "cell_type": "markdown",
      "metadata": {
        "id": "view-in-github",
        "colab_type": "text"
      },
      "source": [
        "<a href=\"https://colab.research.google.com/github/MillyLiu87/Info/blob/main/Milvus_example.ipynb\" target=\"_parent\"><img src=\"https://colab.research.google.com/assets/colab-badge.svg\" alt=\"Open In Colab\"/></a>"
      ]
    },
    {
      "cell_type": "code",
      "execution_count": 137,
      "metadata": {
        "colab": {
          "base_uri": "https://localhost:8080/"
        },
        "id": "4z1mkGaqSehP",
        "outputId": "6074739c-dd10-4a32-9c1d-c1502574177c"
      },
      "outputs": [
        {
          "output_type": "stream",
          "name": "stdout",
          "text": [
            "Requirement already satisfied: openai in /usr/local/lib/python3.10/dist-packages (1.35.14)\n",
            "Requirement already satisfied: requests in /usr/local/lib/python3.10/dist-packages (2.31.0)\n",
            "Requirement already satisfied: tqdm in /usr/local/lib/python3.10/dist-packages (4.66.4)\n",
            "Requirement already satisfied: anyio<5,>=3.5.0 in /usr/local/lib/python3.10/dist-packages (from openai) (3.7.1)\n",
            "Requirement already satisfied: distro<2,>=1.7.0 in /usr/lib/python3/dist-packages (from openai) (1.7.0)\n",
            "Requirement already satisfied: httpx<1,>=0.23.0 in /usr/local/lib/python3.10/dist-packages (from openai) (0.27.0)\n",
            "Requirement already satisfied: pydantic<3,>=1.9.0 in /usr/local/lib/python3.10/dist-packages (from openai) (2.8.2)\n",
            "Requirement already satisfied: sniffio in /usr/local/lib/python3.10/dist-packages (from openai) (1.3.1)\n",
            "Requirement already satisfied: typing-extensions<5,>=4.7 in /usr/local/lib/python3.10/dist-packages (from openai) (4.12.2)\n",
            "Requirement already satisfied: charset-normalizer<4,>=2 in /usr/local/lib/python3.10/dist-packages (from requests) (3.3.2)\n",
            "Requirement already satisfied: idna<4,>=2.5 in /usr/local/lib/python3.10/dist-packages (from requests) (3.7)\n",
            "Requirement already satisfied: urllib3<3,>=1.21.1 in /usr/local/lib/python3.10/dist-packages (from requests) (2.0.7)\n",
            "Requirement already satisfied: certifi>=2017.4.17 in /usr/local/lib/python3.10/dist-packages (from requests) (2024.7.4)\n",
            "Requirement already satisfied: exceptiongroup in /usr/local/lib/python3.10/dist-packages (from anyio<5,>=3.5.0->openai) (1.2.2)\n",
            "Requirement already satisfied: httpcore==1.* in /usr/local/lib/python3.10/dist-packages (from httpx<1,>=0.23.0->openai) (1.0.5)\n",
            "Requirement already satisfied: h11<0.15,>=0.13 in /usr/local/lib/python3.10/dist-packages (from httpcore==1.*->httpx<1,>=0.23.0->openai) (0.14.0)\n",
            "Requirement already satisfied: annotated-types>=0.4.0 in /usr/local/lib/python3.10/dist-packages (from pydantic<3,>=1.9.0->openai) (0.7.0)\n",
            "Requirement already satisfied: pydantic-core==2.20.1 in /usr/local/lib/python3.10/dist-packages (from pydantic<3,>=1.9.0->openai) (2.20.1)\n"
          ]
        }
      ],
      "source": [
        "!pip install openai requests tqdm\n"
      ]
    },
    {
      "cell_type": "code",
      "source": [
        "pip install grpcio==1.63.0"
      ],
      "metadata": {
        "colab": {
          "base_uri": "https://localhost:8080/"
        },
        "id": "aSA4YSmMb8ql",
        "outputId": "9b9f456d-8e2a-4a32-c354-a6eeb7ab2eb6"
      },
      "execution_count": 138,
      "outputs": [
        {
          "output_type": "stream",
          "name": "stdout",
          "text": [
            "Requirement already satisfied: grpcio==1.63.0 in /usr/local/lib/python3.10/dist-packages (1.63.0)\n"
          ]
        }
      ]
    },
    {
      "cell_type": "markdown",
      "source": [
        "# We will use OpenAI as the LLM in this example. You should prepare the api key OPENAI_API_KEY as an environment variable."
      ],
      "metadata": {
        "id": "DH-iUaDNsQIs"
      }
    },
    {
      "cell_type": "code",
      "source": [
        "import os\n",
        "\n",
        "os.environ[\"OPENAI_API_KEY\"] = \"sk\"\n"
      ],
      "metadata": {
        "id": "E6tl0Z-CTBYi"
      },
      "execution_count": 139,
      "outputs": []
    },
    {
      "cell_type": "markdown",
      "source": [
        "# 明白老师的38节写作基础课，文字稿"
      ],
      "metadata": {
        "id": "cvAwAANYsWf5"
      }
    },
    {
      "cell_type": "code",
      "source": [
        "import json\n",
        "import urllib.request\n",
        "\n",
        "file_path = \"Mingbai_writing.txt\"\n",
        "\n",
        "if not os.path.exists(file_path):\n",
        "    urllib.request.urlretrieve(url, file_path)\n"
      ],
      "metadata": {
        "id": "qvJ1xeaATWL3"
      },
      "execution_count": 140,
      "outputs": []
    },
    {
      "cell_type": "markdown",
      "source": [
        "# 按照章节进行拆分，也就是Markdown的\"# \"符号"
      ],
      "metadata": {
        "id": "Nr6QUsstsgwO"
      }
    },
    {
      "cell_type": "code",
      "source": [
        "with open(file_path, \"r\") as file:\n",
        "    file_text = file.read()\n",
        "\n",
        "text_lines = file_text.split(\"# \")\n",
        "\n"
      ],
      "metadata": {
        "id": "ODvUaC72TsFc"
      },
      "execution_count": 141,
      "outputs": []
    },
    {
      "cell_type": "code",
      "source": [
        "from openai import OpenAI\n",
        "\n",
        "openai_client = OpenAI()\n",
        "\n",
        "def emb_text(text):\n",
        "    return (\n",
        "        openai_client.embeddings.create(input=text, model=\"text-embedding-3-small\")\n",
        "        .data[0]\n",
        "        .embedding\n",
        "    )\n"
      ],
      "metadata": {
        "id": "EtAaasv2UVRL"
      },
      "execution_count": 144,
      "outputs": []
    },
    {
      "cell_type": "code",
      "source": [
        "test_embedding = emb_text(\"This is a test\")\n",
        "embedding_dim = len(test_embedding)\n",
        "print(embedding_dim)\n",
        "print(test_embedding[:10])"
      ],
      "metadata": {
        "colab": {
          "base_uri": "https://localhost:8080/"
        },
        "id": "cGmqEaRsUX8s",
        "outputId": "ae112963-bd55-4821-ad3f-f0f41b4aa41b"
      },
      "execution_count": 145,
      "outputs": [
        {
          "output_type": "stream",
          "name": "stdout",
          "text": [
            "1536\n",
            "[0.00988506618887186, -0.005540902726352215, 0.0068014683201909065, -0.03810417652130127, -0.018254263326525688, -0.041231658309698105, -0.007651153020560741, 0.03220026567578316, 0.01892443746328354, 0.00010708322952268645]\n"
          ]
        }
      ]
    },
    {
      "cell_type": "markdown",
      "source": [
        "# 创建数据库Collection"
      ],
      "metadata": {
        "id": "0BsLJwzts-DN"
      }
    },
    {
      "cell_type": "code",
      "source": [
        "from pymilvus import MilvusClient\n",
        "\n",
        "milvus_client = MilvusClient(uri=\"./milvus_demo.db\")\n",
        "\n",
        "collection_name = \"my_rag_collection\"\n",
        "\n"
      ],
      "metadata": {
        "colab": {
          "base_uri": "https://localhost:8080/"
        },
        "id": "RK-lWgxoUfT_",
        "outputId": "052bbbc2-f68d-4030-dce3-bf1c213d47e7"
      },
      "execution_count": 146,
      "outputs": [
        {
          "output_type": "stream",
          "name": "stderr",
          "text": [
            "DEBUG:pymilvus.milvus_client.milvus_client:Created new connection using: cf7bee65e7a346afaf004db8b9a2caed\n"
          ]
        }
      ]
    },
    {
      "cell_type": "markdown",
      "source": [
        "# 如果Collection已经存在，则丢弃\n",
        "\n",
        "\n",
        "\n"
      ],
      "metadata": {
        "id": "I7fogeWOtDXl"
      }
    },
    {
      "cell_type": "code",
      "source": [
        "if milvus_client.has_collection(collection_name):\n",
        "    milvus_client.drop_collection(collection_name)\n"
      ],
      "metadata": {
        "id": "Tm6ivoTuc3vg"
      },
      "execution_count": 147,
      "outputs": []
    },
    {
      "cell_type": "markdown",
      "source": [
        "如果我们不指定任何字段信息,Milvus会自动创建以下内容:\n",
        "一个默认的id字段作为主键\n",
        "一个向量字段用于存储向量数据\n",
        "一个保留的JSON字段,用于存储未在schema中定义的字段及其值\n",
        "这种自动创建的默认结构为用户提供了便利,无需手动定义每个字段就可以快速开始使用Milvus。同时,保留的JSON字段也提供了灵活性,允许存储一些额外的、未在schema中预先定义的数据。这对于处理动态或不确定的数据结构非常有用。"
      ],
      "metadata": {
        "id": "DpmT2gEgtbbh"
      }
    },
    {
      "cell_type": "code",
      "source": [
        "milvus_client.create_collection(\n",
        "    collection_name=collection_name,\n",
        "    dimension=embedding_dim,\n",
        "    metric_type=\"IP\",  # Inner product distance\n",
        "    consistency_level=\"Strong\",  # Strong consistency level\n",
        ")\n"
      ],
      "metadata": {
        "colab": {
          "base_uri": "https://localhost:8080/"
        },
        "id": "-V-EvpqWdwQ4",
        "outputId": "17b31267-b2b6-49a1-bff1-f5c41a84cb9d"
      },
      "execution_count": 148,
      "outputs": [
        {
          "output_type": "stream",
          "name": "stderr",
          "text": [
            "DEBUG:pymilvus.milvus_client.milvus_client:Successfully created collection: my_rag_collection\n",
            "DEBUG:pymilvus.milvus_client.milvus_client:Successfully created an index on collection: my_rag_collection\n"
          ]
        }
      ]
    },
    {
      "cell_type": "markdown",
      "source": [
        "遍历文本行,创建嵌入向量,然后将数据插入到Milvus中。\n",
        "这里有一个新字段text,它在集合模式中是未定义的字段。它将被自动添加到保留的JSON动态字段中,在高层次上可以被视为一个普通字段。\n",
        "这段话解释了以下几点:\n",
        "处理数据的过程:遍历文本,为每行创建嵌入向量,然后将数据插入Milvus。\n",
        "引入了一个新字段\"text\",这个字段在原始的集合模式(schema)中并未定义。\n",
        "尽管\"text\"字段未在模式中定义,但由于启用了动态字段功能,它会被自动添加到一个保留的JSON动态字段中。\n",
        "虽然\"text\"是动态添加的字段,但在使用时可以像普通预定义字段一样对待它。\n",
        "这体现了Milvus的动态模式特性,允许在不修改原始模式的情况下灵活地添加新字段,提高了数据插入和管理的灵活性。"
      ],
      "metadata": {
        "id": "v8isu6IFtuxv"
      }
    },
    {
      "cell_type": "code",
      "source": [
        "from tqdm import tqdm\n",
        "\n",
        "data = []\n",
        "\n",
        "for i, line in enumerate(tqdm(text_lines, desc=\"Creating embeddings\")):\n",
        "    data.append({\"id\": i, \"vector\": emb_text(line), \"text\": line})\n",
        "\n",
        "milvus_client.insert(collection_name=collection_name, data=data)\n"
      ],
      "metadata": {
        "colab": {
          "base_uri": "https://localhost:8080/"
        },
        "id": "XoZKdPYYcZKg",
        "outputId": "88eef040-f906-4610-8254-1665b41049b1"
      },
      "execution_count": 149,
      "outputs": [
        {
          "output_type": "stream",
          "name": "stderr",
          "text": [
            "Creating embeddings: 100%|██████████| 39/39 [00:16<00:00,  2.43it/s]\n"
          ]
        },
        {
          "output_type": "execute_result",
          "data": {
            "text/plain": [
              "{'insert_count': 39,\n",
              " 'ids': [0, 1, 2, 3, 4, 5, 6, 7, 8, 9, 10, 11, 12, 13, 14, 15, 16, 17, 18, 19, 20, 21, 22, 23, 24, 25, 26, 27, 28, 29, 30, 31, 32, 33, 34, 35, 36, 37, 38],\n",
              " 'cost': 0}"
            ]
          },
          "metadata": {},
          "execution_count": 149
        }
      ]
    },
    {
      "cell_type": "code",
      "source": [
        "question = \"为什么要写作\"\n"
      ],
      "metadata": {
        "id": "Sf5yEdzpd_wY"
      },
      "execution_count": 150,
      "outputs": []
    },
    {
      "cell_type": "markdown",
      "source": [
        "在集合中搜索问题并检索语义上最相似的前3个匹配结果。\n",
        "这段代码的具体含义是：\n",
        "使用milvus_client.search方法在指定的集合中进行搜索。\n",
        "搜索的数据是将输入的问题(question)通过emb_text函数转换成的嵌入向量。\n",
        "limit=3表示返回相似度最高的前3个结果。\n",
        "搜索参数使用内积（Inner Product, IP）作为相似度度量方法。\n",
        "output_fields=[\"text\"]指定返回结果中包含\"text\"字段。\n",
        "这种搜索方法利用了向量相似度来找到语义上最接近的匹配，而不是简单的关键词匹配，因此能够检索到语义上相关的结果。"
      ],
      "metadata": {
        "id": "3krI1bakuKir"
      }
    },
    {
      "cell_type": "code",
      "source": [
        "search_res = milvus_client.search(\n",
        "    collection_name=collection_name,\n",
        "    data=[\n",
        "        emb_text(question)\n",
        "    ],  # Use the `emb_text` function to convert the question to an embedding vector\n",
        "    limit=3,  # Return top 3 results\n",
        "    search_params={\"metric_type\": \"IP\", \"params\": {}},  # Inner product distance\n",
        "    output_fields=[\"text\"],  # Return the text field\n",
        ")\n"
      ],
      "metadata": {
        "id": "QuoJtZPLeB_4"
      },
      "execution_count": 151,
      "outputs": []
    },
    {
      "cell_type": "code",
      "source": [
        "retrieved_lines_with_distances = [\n",
        "    (res[\"entity\"][\"text\"], res[\"distance\"]) for res in search_res[0]\n",
        "]\n",
        "print(json.dumps(retrieved_lines_with_distances, indent=4))\n"
      ],
      "metadata": {
        "colab": {
          "base_uri": "https://localhost:8080/"
        },
        "id": "2kPfxOA4eEcA",
        "outputId": "7b94e0c9-e3bf-4ac1-a851-94f204289297"
      },
      "execution_count": 152,
      "outputs": [
        {
          "output_type": "stream",
          "name": "stdout",
          "text": [
            "[\n",
            "    [\n",
            "        \"\\u5199\\u4f5c\\u57fa\\u7840\\u7b2c07\\u8bfe\\uff1a \\u666e\\u901a\\u4eba\\u8ba4\\u8bc6\\u5199\\u4f5c\\u7684 4 \\u4e2a\\u9636\\u6bb5\\n\\u6211\\u575a\\u6301\\u8ba4\\u4e3a\\uff0c\\u5bf9\\u666e\\u901a\\u4eba\\u6765\\u8bf4\\uff0c\\u5199\\u4f5c\\u662f\\u666e\\u901a\\u4eba\\u8d5a\\u94b1\\u8def\\u4e0a\\u4e0d\\u53ef\\u6216\\u7f3a\\u7684\\u4e00\\u4e2a\\u57fa\\u7840\\u6280\\u80fd\\u3002\\n\\u8fd9\\u91cc\\u4e0d\\u662f\\u8bf4\\uff0c\\u4f60\\u8981\\u8d5a\\u94b1\\uff0c\\u5c31\\u4e00\\u5b9a\\u8981\\u5b66\\u5199\\u4f5c\\uff0c\\u4e0d\\u5b66\\u5199\\u4f5c\\u5c31\\u4e00\\u5b9a\\u8d5a\\u4e0d\\u5230\\u94b1\\u3002\\n\\u800c\\u662f\\uff0c\\u5199\\u4f5c\\u53ef\\u4ee5\\u8ba9\\u6211\\u4eec\\u7684\\u8d5a\\u94b1\\u6548\\u7387\\u3001\\u6982\\u7387\\u5927\\u5927\\u63d0\\u9ad8\\u3002\\n\\u539f\\u56e0\\u5728\\u524d\\u9762 10-17 \\u8282\\u8bfe\\u91cc\\u8bb2\\u8fc7\\u3002\\n\\u4e8b\\u5b9e\\u4e0a\\uff0c\\u6211\\u4eec\\u4e5f\\u80fd\\u770b\\u5230\\uff0c\\u8eab\\u8fb9\\u8d8a\\u6765\\u8d8a\\u591a\\u4eba\\u5f00\\u59cb\\u5b66\\u4e60\\u5199\\u4f5c\\u4e86\\u3002\\n\\u4e0d\\u8fc7\\uff0c\\u6709\\u4e9b\\u4eba\\u5b66\\u4e60\\u5199\\u4f5c\\uff0c\\u4e0d\\u662f\\u771f\\u7684\\u7406\\u89e3\\u5199\\u4f5c\\u662f\\u4ec0\\u4e48\\uff0c\\u800c\\u662f\\u770b\\u5230\\u522b\\u4eba\\u901a\\u8fc7\\u5199\\u4f5c\\u8d5a\\u94b1\\u4e86\\uff0c\\u6240\\u4ee5\\u4e5f\\u53bb\\u5b66\\u4e60\\u5199\\u4f5c\\u3002\\n\\u8fd9\\u79cd\\u60c5\\u51b5\\uff0c\\u5927\\u6982\\u7387\\u5199\\u4e0d\\u597d\\u3002\\n\\u4eca\\u5929\\u5c31\\u6765\\u5206\\u4eab\\u4e00\\u4e0b\\uff0c\\u4eba\\u4eec\\u5bf9\\u5199\\u4f5c\\u7684\\u8ba4\\u8bc6\\uff0c\\u5206\\u4e3a 4 \\u4e2a\\u9636\\u6bb5\\u3002\\n\\u53ea\\u6709\\u8fbe\\u5230\\u7b2c 4 \\u9636\\u6bb5\\uff0c\\u624d\\u7b97\\u771f\\u7684\\u7406\\u89e3\\u5199\\u4f5c\\u3002\\n\\u76f8\\u53cd\\uff0c\\u5982\\u679c\\u4e0d\\u7406\\u89e3\\u8fd9\\u70b9\\uff0c\\u5c31\\u5bb9\\u6613\\u53d8\\u6210\\u65e0\\u6548\\u52e4\\u594b\\u3002\\n1 \\u5199\\u4f5c = \\u8f93\\u51fa\\n\\u7b2c 1 \\u9636\\u6bb5\\u7684\\u4eba\\uff0c\\u770b\\u5230\\u522b\\u4eba\\u901a\\u8fc7\\u5199\\u4f5c\\u8d5a\\u94b1\\uff0c\\u4e8e\\u662f\\u4e5f\\u60f3\\u5b66\\u4e60\\u5199\\u4f5c\\u3002\\n\\u4ed6\\u4eec\\u89c9\\u5f97\\uff0c\\u5199\\u4f5c\\u4e3b\\u8981\\u505a\\u7684\\u4e8b\\u60c5\\uff0c\\u5c31\\u662f\\u5199\\u3002\\n\\u53ea\\u8981\\u81ea\\u5df1\\u4e0d\\u65ad\\u5199\\uff0c\\u5c31\\u80fd\\u63d0\\u9ad8\\u5199\\u4f5c\\u80fd\\u529b\\uff0c\\u5199\\u51fa\\u597d\\u6587\\u7ae0\\uff0c\\u83b7\\u5f97\\u8f6c\\u53d1\\uff0c\\u7136\\u540e\\u6da8\\u7c89\\uff0c\\u63a5\\u5e7f\\u544a\\u3001\\u53d8\\u73b0\\u3002\\n\\u4f46\\u7ed3\\u679c\\u662f\\uff0c\\u5199\\u4e86 2 \\u7bc7\\uff0c\\u53d1\\u73b0\\u6ca1\\u4eba\\u770b\\uff0c\\u6ca1\\u4eba\\u5173\\u6ce8\\uff0c\\u6ca1\\u4eba\\u8f6c\\u53d1\\uff0c\\u8d5a\\u4e0d\\u5230\\u94b1\\uff0c\\u4e8e\\u662f\\u653e\\u5f03\\u3002\\n\\u66f4\\u4e25\\u91cd\\u7684\\u662f\\uff0c\\u6709\\u7684\\u4eba\\u4f1a\\u56e0\\u6b64\\u89c9\\u5f97\\uff1a\\u300c\\u6211\\u4e0d\\u9002\\u5408\\u5199\\u4f5c\\u300d\\uff0c\\u751a\\u81f3\\u6709\\u4eba\\u4f1a\\u89c9\\u5f97\\uff1a\\u6211\\u597d\\u5dee\\uff0c\\u4e3a\\u4ec0\\u4e48\\u522b\\u4eba\\u300c\\u8f7b\\u8f7b\\u677e\\u677e\\u300d\\u5c31\\u80fd\\u5199\\u51fa 10w+\\uff0c\\u6211\\u5374\\u505a\\u4e0d\\u597d\\u3002\\u4ed6\\u4eec\\u4f1a\\u81ea\\u6211\\u6279\\u5224\\uff0c\\u4ea7\\u751f\\u632b\\u8d25\\u60c5\\u7eea\\uff0c\\u89c9\\u5f97\\u81ea\\u5df1\\u5b66\\u4ec0\\u4e48\\u90fd\\u5b66\\u4e0d\\u597d\\uff0c\\u9677\\u5165\\u4e60\\u5f97\\u6027\\u65e0\\u52a9\\u3002\\n\\u8fd9\\u662f\\u666e\\u901a\\u4eba\\u5bf9\\u5199\\u4f5c\\u8ba4\\u8bc6\\u7684\\u7b2c 1 \\u9636\\u6bb5\\u3002\\n2 \\u5199\\u4f5c = \\u8f93\\u5165 + \\u8f93\\u51fa\\n\\u7b2c 2 \\u9636\\u6bb5\\u7684\\u4eba\\uff0c\\u6bd4\\u7b2c 1 \\u9636\\u6bb5\\u7684\\u4eba\\u591a\\u4e00\\u4e9b\\u601d\\u8003\\u3002\\n\\u4ed6\\u4eec\\u4f1a\\u60f3\\uff0c\\u65e2\\u7136\\u8981\\u5199\\uff0c\\u90a3\\u5199\\u4ec0\\u4e48\\u5462\\uff1f\\u6211\\u6ca1\\u5565\\u4e1c\\u897f\\u53ef\\u5199\\u554a\\uff01\\u5bf9\\u4e86\\uff0c\\u6211\\u8bfb\\u4e00\\u4e9b\\u4e66\\uff0c\\u7136\\u540e\\u5199\\u51fa\\u6765\\u5c31\\u597d\\u4e86\\u3002\\u4e8e\\u662f\\uff0c\\u4ed6\\u4eec\\u4f1a\\u53bb\\u8bfb\\u4e00\\u4e9b\\u4e66\\uff0c\\u7136\\u540e\\u5199\\u8bfb\\u4e66\\u7b14\\u8bb0\\u3001\\u5fc3\\u5f97\\u7b49\\u3002\\n\\u4ed6\\u4eec\\u89c9\\u5f97\\u53ea\\u8981\\u81ea\\u5df1\\u591a\\u8bfb\\u4e66\\uff0c\\u7136\\u540e\\u628a\\u4e66\\u91cc\\u7684\\u5185\\u5bb9\\u5199\\u51fa\\u6765\\uff0c\\u5c31\\u4f1a\\u6709\\u4ef7\\u503c\\uff0c\\u5199\\u51fa\\u597d\\u6587\\u7ae0\\uff0c\\u83b7\\u5f97\\u8f6c\\u53d1\\uff0c\\u7136\\u540e\\u6da8\\u7c89\\uff0c\\u63a5\\u5e7f\\u544a\\u3001\\u53d8\\u73b0\\u3002\\n\\u4f46\\u7ed3\\u679c\\u662f\\uff0c\\u5199\\u4e86 5 \\u7bc7\\uff0c\\u53d1\\u73b0\\u8fd8\\u662f\\u6ca1\\u4eba\\u770b\\uff0c\\u8d5a\\u4e0d\\u5230\\u94b1\\uff0c\\u4e8e\\u662f\\u653e\\u5f03\\u3002\\n\\u4ed6\\u4eec\\u89c9\\u5f97\\uff0c\\u6211\\u90fd\\u8bfb\\u4e66\\u4e86\\uff0c\\u5199\\u51fa\\u6765\\u7684\\u6587\\u7ae0\\u8fd8\\u6ca1\\u4eba\\u770b\\uff0c\\u8bf4\\u660e\\u6211\\u4e0d\\u9002\\u5408\\u5199\\u4f5c\\u3002\\u90a3\\u4e9b\\u80fd\\u5199\\u51fa\\u597d\\u6587\\u7ae0\\u7684\\u4eba\\uff0c\\u5e94\\u8be5\\u662f\\u51ed\\u5929\\u8d4b\\u5427\\u3002\\u6211\\u6ca1\\u6709\\u5929\\u8d4b\\uff0c\\u55ef\\uff0c\\u7b97\\u4e86\\u3002\\n\\u8fd9\\u662f\\u666e\\u901a\\u4eba\\u5bf9\\u5199\\u4f5c\\u8ba4\\u8bc6\\u7684\\u7b2c 2 \\u9636\\u6bb5\\u3002\\n3 \\u5199\\u4f5c = \\u8f93\\u5165 + \\u601d\\u8003 + \\u8f93\\u51fa\\n\\u7b2c 3 \\u9636\\u6bb5\\u7684\\u4eba\\uff0c\\u6bd4\\u7b2c 2 \\u9636\\u6bb5\\u591a\\u4e00\\u4e9b\\u601d\\u8003\\u3002\\n\\u4ed6\\u4eec\\u4f1a\\u53bb\\u5b66\\u4e60\\u4e00\\u4e9b\\u4ea7\\u54c1\\u3001\\u5b9a\\u4f4d\\u3001\\u8425\\u9500\\u7684\\u77e5\\u8bc6\\uff0c\\u77e5\\u9053\\u8981\\u5206\\u6790\\u76ee\\u6807\\u7528\\u6237\\uff0c\\u8981\\u9009\\u62e9\\u5199\\u4f5c\\u8bdd\\u9898\\u7b49\\u3002\\n\\u4ed6\\u4eec\\u4e5f\\u4f1a\\u542c\\u5199\\u4f5c\\u8bfe\\u3001\\u8bfb\\u5199\\u4f5c\\u4e66\\u7c4d\\u3001\\u5b66\\u4e60\\u5199\\u4f5c\\u6280\\u5de7\\uff0c\\u5438\\u53d6\\u9ad8\\u624b\\u7684\\u7ecf\\u9a8c\\u6765\\u5e2e\\u52a9\\u81ea\\u5df1\\u63d0\\u9ad8\\u5199\\u4f5c\\u6c34\\u5e73\\u3002\\n\\u4f46\\u662f\\uff0c\\u4ed6\\u4eec\\u7684\\u8fdb\\u6b65\\u6bd4\\u8f83\\u6162\\u3002\\n\\u56e0\\u4e3a\\uff0c\\u867d\\u7136\\u4ed6\\u4eec\\u542c\\u8bfe\\u3001\\u8bfb\\u4e66\\uff0c\\u5b66\\u4e60\\u5404\\u79cd\\u5199\\u4f5c\\u65b9\\u6cd5\\u3002\\u4f46\\u4ed6\\u4eec\\u4f1a\\u5ffd\\u7565\\u4e86\\u4e00\\u4e2a\\u56e0\\u7d20\\uff1a\\u79ef\\u7d2f\\u3002\\u5199\\u4f5c\\u662f\\u4e00\\u4e2a\\u6280\\u80fd\\uff0c\\u5fc5\\u987b\\u901a\\u8fc7\\u5927\\u91cf\\u523b\\u610f\\u7ec3\\u4e60\\uff0c\\u624d\\u80fd\\u719f\\u7ec3\\uff0c\\u5199\\u51fa\\u597d\\u6587\\u7ae0\\u3002\\n\\u6240\\u4ee5\\uff0c\\u4ed6\\u4eec\\u5927\\u591a\\u90fd\\u662f\\u5b66\\u5f97\\u591a\\u7ec3\\u5f97\\u5c11\\uff0c\\u6216\\u8005\\u76f4\\u63a5\\u5957\\u7528\\u65b9\\u6cd5\\uff0c\\u6216\\u8005\\uff0c\\u4e0d\\u61c2\\u5f97\\u5982\\u4f55\\u523b\\u610f\\u7ec3\\u4e60 \\uff0c\\u6bd4\\u5982\\uff0c\\u4ec0\\u4e48\\u60c5\\u51b5\\u4e0b\\u8be5\\u7528\\u54ea\\u4e2a\\u65b9\\u6cd5\\uff0c\\u4ee5\\u53ca\\u8be5\\u5982\\u4f55\\u53d8\\u901a\\uff0c\\u6709\\u54ea\\u4e9b\\u6ce8\\u610f\\u4e8b\\u9879\\uff0c\\u5982\\u4f55\\u6839\\u636e\\u7528\\u6237\\u53cd\\u9988\\u6539\\u8fdb\\u7b49\\u3002\\n\\u6240\\u4ee5\\uff0c\\u4ed6\\u4eec\\u5199\\u51fa\\u6765\\u7684\\u6587\\u7ae0\\uff0c\\u4f1a\\u5f88\\u300c\\u50f5\\u786c\\u300d\\uff0c\\u4e5f\\u4e0d\\u591f\\u597d\\u3002\\n\\u8fd9\\u4e2a\\u9636\\u6bb5\\u7684\\u4eba\\uff0c\\u5199\\u7684\\u4f1a\\u6bd4\\u8f83\\u4e45\\uff0c\\u5927\\u6982 50 \\u7bc7\\u5de6\\u53f3\\uff0c\\u4f46\\u53d1\\u73b0\\u8fd8\\u8d5a\\u4e0d\\u5230\\u94b1\\uff0c\\u4e5f\\u4f1a\\u653e\\u5f03\\u3002\\n\\u8fd9\\u662f\\u666e\\u901a\\u4eba\\u5bf9\\u5199\\u4f5c\\u8ba4\\u8bc6\\u7684\\u7b2c 3 \\u9636\\u6bb5\\u3002\\n4 \\u5199\\u4f5c = \\u4e00\\u5207\\n\\u7b2c 4 \\u9636\\u6bb5\\u7684\\u4eba\\uff0c\\u6bd4\\u7b2c 3 \\u9636\\u6bb5\\u591a\\u4e86\\u5927\\u91cf\\u601d\\u8003\\u3002\\n\\u4ed6\\u4eec\\u77e5\\u9053\\uff0c\\u5199\\u4f5c\\u548c\\u8d5a\\u94b1\\u4e00\\u6837\\uff0c\\u4e0d\\u662f\\u4e00\\u4ef6\\u4e8b\\uff0c\\u800c\\u662f\\u4e00\\u4e2a\\u7cfb\\u7edf\\u3002\\n\\u5199\\u4f5c = \\u8f93\\u5165 + \\u601d\\u8003 + \\u8f93\\u51fa + \\u65b9\\u6cd5 + \\u5b66\\u4e60 + \\u9700\\u6c42 + \\u5546\\u4e1a + \\u8010\\u5fc3 + \\u957f\\u671f + \\u610f\\u4e49 + \\u6d41\\u7a0b + \\u4ea7\\u54c1 + \\u8425\\u9500 + \\u8ba4\\u8bc6\\u81ea\\u5df1 + \\u8ba4\\u8bc6\\u4e16\\u754c + \\u2026\\u2026\\u7b49\\u7b49\\u3002\\n\\u4ed6\\u4eec\\u901a\\u8fc7\\u6df1\\u5165\\u601d\\u8003\\uff0c\\u60f3\\u6e05\\u695a\\u4e86\\u5199\\u4f5c\\u5bf9\\u81ea\\u5df1\\u7684\\u610f\\u4e49\\uff0c\\u5bf9\\u81ea\\u5df1\\u7684\\u957f\\u671f\\u4ef7\\u503c\\u3002\\u6240\\u4ee5\\uff0c\\u4ed6\\u4eec\\u80fd\\u8010\\u5f97\\u4f4f\\u5bc2\\u5bde\\uff0c\\u5728\\u524d\\u671f\\u6ca1\\u6709\\u6536\\u76ca\\u7684\\u9636\\u6bb5\\uff0c\\u65e2\\u7136\\u4fdd\\u6301\\u70ed\\u60c5\\u53bb\\u5b66\\u4e60\\u3001\\u53bb\\u7ec3\\u4e60\\u3002\\n\\u8fd9\\u4e2a\\u9636\\u6bb5\\u7684\\u4eba\\uff0c\\u90fd\\u662f\\u5728\\u524d\\u9762 4 \\u4e2a\\u9636\\u6bb5\\uff0c\\u6765\\u56de\\u98a0\\u5012\\u591a\\u6b21\\uff0c\\u88ab\\u73b0\\u5b9e\\u6253\\u51fb\\u591a\\u6b21\\uff0c\\u624d\\u6162\\u6162\\u7406\\u89e3\\u4e86\\u5199\\u4f5c\\u3002\\u4ed6\\u4eec\\u4f1a\\u5b8c\\u5168\\u653e\\u5f03\\u6025\\u4e8e\\u6c42\\u6210\\u7684\\u5fc3\\uff0c\\u5927\\u91cf\\u523b\\u610f\\u7ec3\\u4e60\\u3002\\n\\u8fd9\\u4e2a\\u9636\\u6bb5\\u7684\\u4eba\\uff0c\\u4f1a\\u6301\\u7eed\\u5199\\u4e0b\\u53bb\\u3002\\u4ed6\\u4eec\\u7684\\u5199\\u4f5c\\u6c34\\u5e73\\uff0c\\u4e5f\\u4f1a\\u7a33\\u6b65\\u4e0a\\u5347\\u3002\\u4ed6\\u4eec\\u901a\\u8fc7\\u5199\\u4f5c\\u7684\\u6536\\u76ca\\uff0c\\u4e5f\\u4f1a\\u53d8\\u5f97\\u8d8a\\u6765\\u8d8a\\u5927\\u3002\\n5 \\u603b\\u7ed3\\n\\u5199\\u4f5c\\u662f\\u4ec0\\u4e48\\uff1f\\n\\u5199\\u4f5c\\u5206 3 \\u90e8\\u5206\\u2014\\u2014\\n\\uff081\\uff09\\u8f93\\u5165\\uff1a\\u77e5\\u8bc6\\n\\uff082\\uff09\\u5904\\u7406\\uff1a\\u601d\\u8003\\n\\uff083\\uff09\\u8f93\\u51fa\\uff1a\\u8868\\u8fbe\\n\\u6709\\u77e5\\u8bc6\\u79ef\\u7d2f\\uff0c\\u624d\\u6709\\u4e1c\\u897f\\u53ef\\u5199\\u3002\\n\\u80fd\\u6df1\\u5165\\u601d\\u8003\\uff0c\\u624d\\u4f1a\\u5bf9\\u522b\\u4eba\\u6709\\u7528\\u3002\\n\\u4f1a\\u8868\\u8fbe\\u65b9\\u6cd5\\uff0c\\u624d\\u80fd\\u8ba9\\u8bfb\\u8005\\u770b\\u61c2\\u3002\\n\\u5982\\u679c\\u8fd9 3 \\u90e8\\u5206\\u5212\\u5206\\u6bd4\\u4f8b\\u2014\\u2014\\n\\u8f93\\u5165\\uff1a50%\\n\\u601d\\u8003\\uff1a40%\\n\\u8f93\\u51fa\\uff1a10%\\n\\u666e\\u901a\\u4eba\\u8ba4\\u4e3a\\u7684\\u5199\\u4f5c\\u6280\\u5de7\\uff0c\\u53ea\\u662f\\u8f93\\u51fa\\uff0c\\u6bd4\\u5982\\u5f00\\u5934\\u3001\\u7ed3\\u5c3e\\u3001\\u91d1\\u53e5\\u3001\\u8bb2\\u6545\\u4e8b\\u7b49\\uff0c\\u8fd9\\u5360\\u5199\\u4f5c\\u7684 10%\\u3002\\n\\u4f46\\u524d\\u9762 2 \\u4e2a\\uff1a\\u8f93\\u5165\\u548c\\u601d\\u8003\\uff0c\\u662f\\u8f93\\u51fa\\u7684\\u5fc5\\u8981\\u6761\\u4ef6\\u3002\\n\\u5982\\u679c\\u6ca1\\u6709\\u4f18\\u8d28\\u7684\\u8f93\\u5165\\u548c\\u601d\\u8003\\uff0c\\u8f93\\u51fa\\u7684\\u53ea\\u80fd\\u662f\\u6d41\\u6c34\\u8d26\\uff0c\\u6216\\u8005\\u81ea\\u55e8\\u7684\\u5185\\u5bb9\\u3002\\n\\u8fd9\\u4e5f\\u662f\\u4e3a\\u4ec0\\u4e48\\u5f88\\u591a\\u4eba\\u542c\\u4e86\\u5927\\u91cf\\u7684\\u5199\\u4f5c\\u8bfe\\uff0c\\u4f46\\u4f9d\\u7136\\u5199\\u4e0d\\u51fa\\u597d\\u6587\\u7ae0\\u3002\\u56e0\\u4e3a\\u5199\\u4f5c\\u8bfe\\u6559\\u7684\\u53ea\\u662f\\u4e00\\u4e9b\\u6280\\u5de7\\uff0c\\u5f53\\u7136\\u4e5f\\u53ea\\u80fd\\u6559\\u8fd9\\u4e9b\\u3002\\u5b83\\u6700\\u591a\\u4e5f\\u53ea\\u80fd\\u5360\\u4e00\\u7bc7\\u6587\\u7ae0\\u8d28\\u91cf\\u7684 10%\\uff0c\\u66f4\\u4f55\\u51b5\\u6280\\u5de7\\u4e5f\\u9700\\u8981\\u7ecf\\u8fc7\\u5927\\u91cf\\u7ec3\\u4e60\\u624d\\u80fd\\u719f\\u7ec3\\u4f7f\\u7528\\uff0c\\u8fd9\\u4e2a\\u6bd4\\u4f8b\\u5c31\\u66f4\\u4f4e\\u4e86\\u3002\\n\\u8981\\u5199\\u51fa\\u597d\\u6587\\u7ae0\\uff0c\\u5fc5\\u987b\\u8981\\u5927\\u91cf\\u8f93\\u5165\\u548c\\u6df1\\u5165\\u601d\\u8003\\u3002\\n\\u800c\\u8f93\\u5165\\u548c\\u601d\\u8003\\uff0c\\u9700\\u8981\\u957f\\u671f\\u79ef\\u7d2f\\u624d\\u80fd\\u719f\\u7ec3\\u8fd0\\u7528\\u3002\\n\\uff081\\uff09\\u8f93\\u5165\\uff1a\\u8bfb\\u4e66\\u3001\\u8bfb\\u6587\\u7ae0\\u3001\\u4e0e\\u4eba\\u4ea4\\u6d41\\u7b49\\u8fc7\\u7a0b\\u4e2d\\u79ef\\u7d2f\\u7684\\u77e5\\u8bc6\\u3002\\n\\u5982\\u679c\\u628a\\u601d\\u8003\\u6bd4\\u4f5c\\u76d6\\u623f\\u5b50\\u3002\\n\\u90a3\\u77e5\\u8bc6\\uff0c\\u5c31\\u662f\\u5730\\u57fa\\u3002\\n\\u5730\\u57fa\\u4e0d\\u7a33\\uff0c\\u623f\\u5b50\\u5c31\\u6ca1\\u6cd5\\u76d6\\u8d77\\u6765\\u3002\\n\\u5982\\u679c\\u4e00\\u4e2a\\u4eba\\u77e5\\u8bc6\\u79ef\\u7d2f\\u5c11\\uff0c\\u90a3\\u4ed6\\u601d\\u8003\\u4efb\\u4f55\\u95ee\\u9898\\uff0c\\u90fd\\u80fd\\u5728\\u6709\\u9650\\u7684\\u77e5\\u8bc6\\u5708\\u91cc\\u5f98\\u5f8a\\u3002\\u8fd9\\u6837\\u7684\\u601d\\u8003\\uff0c\\u80af\\u5b9a\\u662f\\u4e0d\\u53ca\\u683c\\u7684\\u3002\\u5c31\\u66f4\\u522b\\u63d0\\u540e\\u9762\\u7684\\u8f93\\u51fa\\u4e86\\u3002\\n\\uff082\\uff09\\u601d\\u8003\\uff1a\\u5bf9\\u4e00\\u4ef6\\u4e8b\\u60c5\\u7684\\u770b\\u6cd5\\uff0c\\u4e5f\\u53eb\\u8ba4\\u77e5\\u3002\\n\\u601d\\u8003\\u5728\\u5199\\u4f5c\\u4e2d\\u7684\\u6bd4\\u4f8b\\u5360\\u5230 40%\\uff0c\\u751a\\u81f3\\u66f4\\u591a\\u3002\\n\\u56e0\\u4e3a\\u9ad8\\u8d28\\u91cf\\u7684\\u601d\\u8003\\u53ef\\u4ee5\\u5316\\u8150\\u673d\\u4e3a\\u795e\\u5947\\uff0c\\u5b83\\u76f8\\u5f53\\u4e8e\\u8ba1\\u7b97\\u673a\\u7684\\u4e2d\\u592e\\u5904\\u7406\\u5668\\u3002\\n\\u540c\\u6837\\u4e00\\u4e2a\\u77e5\\u8bc6\\uff0c\\u601d\\u8003\\u7684\\u8db3\\u591f\\u6df1\\u5165\\uff0c\\u5c31\\u80fd\\u53d8\\u7684\\u4e0d\\u4e00\\u6837\\u3002\\n\\u5f88\\u591a\\u4e8b\\u60c5\\uff0c\\u53ea\\u8981\\u4e0d\\u65ad\\u601d\\u8003\\uff0c\\u5c31\\u4f1a\\u6709\\u4e0d\\u540c\\u89d2\\u5ea6\\u3001\\u4e0d\\u540c\\u7684\\u7406\\u89e3\\uff0c\\u53d1\\u73b0\\u4ee5\\u524d\\u4e0d\\u61c2\\u7684\\u4e1c\\u897f\\uff0c\\u5199\\u51fa\\u6765\\uff0c\\u5c31\\u5bf9\\u522b\\u4eba\\u66f4\\u6709\\u4ef7\\u503c\\u3002\\n\\u601d\\u8003\\u53c8\\u548c\\u80fd\\u529b\\u76f8\\u5173\\u3002\\u5199\\u4e0d\\u540c\\u7c7b\\u578b\\u7684\\u6587\\u7ae0\\uff0c\\u5c31\\u9700\\u8981\\u5bf9\\u4e0d\\u540c\\u9886\\u57df\\u6709\\u7814\\u7a76\\u3002\\u800c\\u5982\\u679c\\u4e0d\\u5b9e\\u8df5\\uff0c\\u90a3\\u7814\\u7a76\\u5c31\\u4e0d\\u4f1a\\u6df1\\u5165\\uff0c\\u5199\\u51fa\\u6765\\u7684\\u4e1c\\u897f\\u53ef\\u80fd\\u90fd\\u662f\\u7eb8\\u4e0a\\u8c08\\u5175\\uff0c\\u5c31\\u4f1a\\u5c11\\u4e00\\u4e9b\\u8bf4\\u670d\\u529b\\u3002\\u5b9e\\u8df5\\u53c8\\u548c\\u80fd\\u529b\\u662f\\u76f8\\u5173\\u7684\\u3002\\n\\u4e00\\u4e2a\\u80fd\\u5199\\u51fa\\u597d\\u6587\\u7ae0\\u7684\\u4eba\\uff0c\\u80af\\u5b9a\\u5728\\u67d0\\u4e2a\\u9886\\u57df\\u7684\\u80fd\\u529b\\u5f88\\u5f3a\\u3002\\u53cd\\u4e4b\\uff0c\\u80fd\\u529b\\u4e0d\\u5230\\u4f4d\\uff0c\\u5199\\u51fa\\u6765\\u7684\\u6587\\u7ae0\\u4e00\\u5b9a\\u4e0d\\u884c\\u3002\\n\\u6240\\u4ee5\\uff0c\\u5199\\u4f5c\\u4e0d\\u662f\\u4e00\\u4e2a\\u72ec\\u7acb\\u4e8b\\u4ef6\\u3002\\n\\u5199\\u4f5c\\u662f\\u4e00\\u4e2a\\u7cfb\\u7edf\\u3002\\n\\u8f93\\u5165 + \\u601d\\u8003 + \\u8f93\\u51fa + \\u5176\\u4ed6\\u3002\\n\\u6240\\u6709\\u7684\\u4e8b\\u52a0\\u5230\\u4e00\\u8d77\\uff0c\\u624d\\u662f\\u5199\\u4f5c\\u8fd9\\u4ef6\\u4e8b\\u3002\\n\\u7406\\u89e3\\u8fd9\\u70b9\\uff0c\\u6211\\u4eec\\u624d\\u80fd\\u5728\\u5199\\u4f5c\\u8fd9\\u6761\\u8def\\u4e0a\\uff0c\\u8d70\\u7684\\u66f4\\u8fdc\\uff0c\\u5e76\\u4e14\\u83b7\\u5f97\\u66f4\\u5927\\u7684\\u6536\\u76ca\\u3002\\n\",\n",
            "        0.5998148322105408\n",
            "    ],\n",
            "    [\n",
            "        \"\\u5199\\u4f5c\\u57fa\\u7840\\u7b2c16\\u8bfe\\uff1a \\u6211\\u80fd\\u65e5\\u66f4 900\\u5929\\u7684\\u79d8\\u8bc0\\uff1a\\u610f\\u4e49\\n\\u81ea\\u4ece\\u6211\\u5f00\\u59cb\\u65e5\\u66f4\\uff0c\\u88ab\\u95ee\\u8fc7\\u6700\\u591a\\u7684\\u4e00\\u4e2a\\u95ee\\u9898\\u5c31\\u662f\\uff1a\\u5982\\u4f55\\u80fd\\u8ba9\\u81ea\\u5df1\\uff0c\\u957f\\u671f\\u6301\\u7eed\\u8f93\\u51fa\\uff1f\\n\\u4eca\\u5929\\u5c31\\u6765\\u8be6\\u7ec6\\u5206\\u4eab\\u4e00\\u4e0b\\uff0c\\u6211\\u7684\\u4e00\\u4e9b\\u7ecf\\u5386\\u3001\\u601d\\u8003\\u3001\\u548c\\u7ecf\\u9a8c\\u3002\\n1 \\u6211\\u7684\\u5199\\u4f5c\\u7ecf\\u5386\\n\\u6211\\u5927\\u5b66\\u4e13\\u4e1a\\u662f\\u81ea\\u52a8\\u5316\\uff0c\\u4f46\\u81ea\\u5df1\\u5728\\u5916\\u9762\\u62a5\\u73ed\\u5b66\\u7684\\u8ba1\\u7b97\\u673a\\uff0c\\u4e3b\\u8981\\u662f C \\u8bed\\u8a00\\u3001C++\\uff1b\\u6bd5\\u4e1a\\u540e\\uff0c\\u5c31\\u76f4\\u63a5\\u627e\\u5230\\u4e00\\u4efd\\u5317\\u4eac\\u7684\\u7a0b\\u5e8f\\u5458\\u5de5\\u4f5c\\u3002\\u4ece\\u4e8b\\u8fc7\\u7f51\\u7edc\\u3001\\u4e91\\u8ba1\\u7b97\\u65b9\\u9762\\u7684\\u5f00\\u53d1\\u5de5\\u4f5c\\uff0c\\u7ffb\\u8bd1\\u8fc7\\u4e00\\u672c\\u4e91\\u8ba1\\u7b97\\u7684\\u4e66\\u7c4d\\u300a\\u6df1\\u5165\\u7406\\u89e3 OpenStack Trove\\u300b\\u3002\\n\\u8fd9\\u4e2a\\u9636\\u6bb5\\uff0c\\u6211\\u5e76\\u6ca1\\u6709\\u5199\\u4f5c\\u7ecf\\u9a8c\\u3002\\n\\u751a\\u81f3\\u53ef\\u4ee5\\u8bf4\\uff0c\\u4ece\\u6765\\u6ca1\\u6709\\u89c9\\u5f97\\uff0c\\u5199\\u4f5c\\u662f\\u4e00\\u79cd\\u91cd\\u8981\\u7684\\u4e8b\\u60c5\\u3002\\n\\u540e\\u6765\\u6162\\u6162\\u7684\\uff0c\\u5f00\\u59cb\\u63a5\\u89e6\\u4ea7\\u54c1\\u3001\\u8fd0\\u8425\\u3001\\u5546\\u4e1a\\u9886\\u57df\\u7684\\u4e8b\\u60c5\\uff0c\\u4e8e\\u662f\\u5f00\\u59cb\\u5b66\\u4e60\\u5199\\u4f5c\\u3002\\n\\u4e00\\u5f00\\u59cb\\uff0c\\u5c31\\u662f\\u5fc3\\u8840\\u6765\\u6f6e\\uff0c\\u770b\\u5230\\u522b\\u4eba\\u505a\\u516c\\u4f17\\u53f7\\uff0c\\u89c9\\u5f97\\u65b0\\u5947\\uff0c\\u4e5f\\u6ce8\\u518c\\u4e86\\u4e00\\u4e2a\\u3002\\n\\u8fd9\\u4e2a\\u9636\\u6bb5\\u6ca1\\u628a\\u5199\\u4f5c\\u5f53\\u56de\\u4e8b\\uff0c\\u5c31\\u968f\\u4fbf\\u778e\\u5199\\u3002\\u5199\\u7684\\u662f\\u751f\\u6d3b\\u3001\\u82f1\\u8bed\\u3001\\u8bfb\\u4e66\\u4e4b\\u7c7b\\u7684\\u3002\\u4f46\\u56e0\\u4e3a\\u6ca1\\u6709\\u6b63\\u53cd\\u9988\\uff0c\\u6240\\u4ee5\\u5c31\\u6ca1\\u5565\\u592a\\u5927\\u7684\\u52a8\\u529b\\u3002\\n\\u518d\\u540e\\u6765\\uff0c\\u770b\\u5230\\u8eab\\u8fb9\\u5199\\u4f5c\\u7684\\u4eba\\u8d8a\\u6765\\u8d8a\\u591a\\uff0c\\u6211\\u5bf9\\u5199\\u4f5c\\u7684\\u8ba4\\u8bc6\\uff0c\\u4e5f\\u8d8a\\u6765\\u8d8a\\u6df1\\u3002\\u4e8e\\u662f\\uff0c\\u5f00\\u59cb\\u62a5\\u8bfe\\u3001\\u4e70\\u4e66\\uff0c\\u6253\\u7b97\\u8ba4\\u771f\\u5b66\\u4e60\\u5199\\u4f5c\\u3002\\n\\u6211\\u6700\\u65e9\\u7684\\u60f3\\u6cd5\\u662f\\uff0c\\u542c\\u5b8c\\u4e00\\u4e2a\\u8bfe\\uff0c\\u5b66\\u4f1a\\u4e00\\u4e9b\\u5199\\u4f5c\\u6280\\u5de7\\uff0c\\u6211\\u7684\\u5199\\u4f5c\\u6c34\\u5e73\\u5e94\\u8be5\\u4f1a\\u7a81\\u98de\\u731b\\u8fdb\\u5427\\u3002\\u4f46\\u53d1\\u73b0\\uff0c\\u867d\\u7136\\u5b66\\u4e86\\u5f88\\u591a\\u65b9\\u6cd5\\uff0c\\u6bd4\\u5982\\u8d77\\u6807\\u9898\\u3001\\u642d\\u6846\\u67b6\\u3001\\u5199\\u5f00\\u5934\\u3001\\u5199\\u7ed3\\u5c3e\\u7b49\\u7b49\\uff0c\\u4f46\\u5199\\u51fa\\u6765\\u7684\\u6587\\u7ae0\\uff0c\\u8fd8\\u662f\\u4e00\\u822c\\u822c\\u3002\\u4e8e\\u662f\\uff0c\\u5199\\u4f5c\\u7684\\u70ed\\u60c5\\uff0c\\u4e5f\\u6162\\u6162\\u6d88\\u6563\\u4e86\\u3002\\n\\u518d\\u518d\\u540e\\u6765\\uff0c\\u6211\\u8bfb\\u4e86\\u4e00\\u4e9b\\u5b66\\u4e60\\u65b9\\u9762\\u7684\\u4e66\\uff0c\\u77e5\\u9053\\u4e86\\u523b\\u610f\\u7ec3\\u4e60\\u8fd9\\u4e2a\\u6982\\u5ff5\\u3002\\u660e\\u767d\\u4e86\\u5b66\\u4e60\\u4e00\\u4e2a\\u6280\\u80fd\\uff0c\\u5fc5\\u987b\\u5927\\u91cf\\u7ec3\\u4e60\\u3002\\n\\u4e8e\\u662f\\uff0c\\u6211\\u5f00\\u59cb\\u5c1d\\u8bd5\\u65e5\\u66f4\\u3002\\n\\u6211\\u65e5\\u66f4\\u8fc7\\u4e24\\u6b21\\uff0c\\n\\u7b2c\\u4e00\\u6b21\\uff0c60 \\u5929\\uff0c\\u5931\\u8d25\\u4e86\\u3002\\n\\u7b2c\\u4e8c\\u6b21\\uff0c2 \\u5929\\uff0c\\u5931\\u8d25\\u4e86\\u3002\\n\\u7b2c\\u4e09\\u6b21\\uff0c\\u5c31\\u662f\\u4ece\\u53bb\\u5e74 5 \\u6708\\u4efd\\u5f00\\u59cb\\uff0c\\u5230\\u73b0\\u5728\\uff0c\\u6301\\u7eed\\u4e86\\u5feb 600+ \\u5929\\uff0c\\u4e00\\u5929\\u6ca1\\u65ad\\u8fc7\\u3002\\n\\u53ef\\u80fd\\u6709\\u540c\\u5b66\\u5c31\\u8981\\u95ee\\uff1a\\u4e3a\\u4ec0\\u4e48\\u4f60\\u7b2c\\u4e09\\u6b21\\uff0c\\u80fd\\u575a\\u6301\\u4e0b\\u6765\\uff1f\\u4f60\\u505a\\u4e86\\u5565\\u4e0d\\u4e00\\u6837\\u7684\\u4e8b\\u60c5\\uff1f\\n\\u5728\\u56de\\u7b54\\u8fd9\\u4e2a\\u95ee\\u9898\\u524d\\uff0c\\u6211\\u5148\\u5206\\u4eab\\u4e00\\u4e0b\\uff0c\\u81ea\\u5df1\\u65e5\\u66f4 600 \\u5929\\u7684\\u6536\\u83b7\\u5427\\u3002\\n\\u5982\\u679c\\u6ca1\\u6536\\u83b7\\uff0c\\u53ea\\u662f\\u5199\\u6d41\\u6c34\\u8d26\\uff0c\\u90a3\\u65e5\\u66f4 600 \\u5929\\uff0c\\u4e5f\\u5c5e\\u4e8e\\u65e0\\u6548\\u52e4\\u594b\\u3002\\u5c31\\u6ca1\\u5565\\u503c\\u5f97\\u5206\\u4eab\\u7684\\u3002\\n2 \\u6211\\u65e5\\u66f4 600 \\u5929\\u7684\\u6536\\u83b7\\n1 \\u5199\\u4f5c\\u65b9\\u9762\\n\\uff081\\uff09\\u5199\\u4f5c\\u6548\\u7387\\uff1a\\u4ece\\u4e00\\u5f00\\u59cb\\u7684\\u78d5\\u78d5\\u7eca\\u7eca\\uff0c4\\u30015 \\u4e2a\\u5c0f\\u65f6\\u624d\\u80fd\\u618b\\u51fa\\u4e00\\u7bc7\\u6587\\u7ae0\\u3002\\u5230\\u73b0\\u5728\\uff0c\\u6bcf\\u5929 1-2 \\u5c0f\\u65f6\\u5c31\\u80fd\\u5b8c\\u6210\\u65e5\\u66f4\\u7684 1500-2000 \\u5b57\\u6587\\u7ae0\\u3002\\u751a\\u81f3\\u6709\\u65f6\\u5019\\u72b6\\u6001\\u597d\\uff0c10 \\u5206\\u949f\\u5c31\\u80fd\\u5b8c\\u6210 1000 \\u5b57\\u7684\\u6587\\u7ae0\\u3002\\n\\uff082\\uff09\\u6587\\u7ae0\\u8d28\\u91cf\\uff1a\\u539f\\u6765\\u7684\\u6587\\u7ae0\\uff0c\\u4e3b\\u9898\\u6a21\\u7cca\\uff0c\\u903b\\u8f91\\u6df7\\u4e71\\u3002\\u73b0\\u5728\\uff0c\\u6bcf\\u7bc7\\u6587\\u7ae0\\u90fd\\u6709\\u81ea\\u5df1\\u7684\\u601d\\u8003\\uff0c\\u4ece\\u5206\\u4eab\\u6570\\u3001\\u6536\\u85cf\\u6570\\u6765\\u770b\\uff0c\\u5bf9\\u8bfb\\u8005\\u4e5f\\u6709\\u66f4\\u5927\\u4ef7\\u503c\\u3002\\u8fd8\\u5728\\u4e00\\u4e2a\\u7ec6\\u5206\\u9886\\u57df\\u91cc\\uff0c\\u5199\\u8fc7\\u4e00\\u7bc7 10w+\\uff08\\u52a0\\u4e0a\\u8f6c\\u8f7d\\uff09\\n\\uff083\\uff09\\u5199\\u4f5c\\u7cfb\\u7edf\\uff1a\\u539f\\u6765\\u5199\\u6587\\u7ae0\\uff0c\\u65e0\\u8bba\\u662f\\u5b9a\\u8bdd\\u9898\\uff0c\\u8fd8\\u662f\\u642d\\u6846\\u67b6\\uff0c\\u90fd\\u662f\\u51ed\\u611f\\u89c9\\u3002\\u73b0\\u5728\\uff0c\\u5efa\\u7acb\\u4e86\\u4e00\\u5957\\u81ea\\u5df1\\u7684\\u5199\\u4f5c\\u7cfb\\u7edf\\uff0c\\u80fd\\u505a\\u5230\\u6301\\u7eed\\u9ad8\\u8d28\\u91cf\\u8f93\\u51fa\\u3002\\n2 \\u6570\\u636e\\u65b9\\u9762\\n\\u516c\\u4f17\\u53f7\\u5173\\u6ce8\\u6570\\uff0c\\u4ece\\u4e0d\\u5230 2000 \\uff0c\\u4e0a\\u5347\\u5230\\u5feb 5 \\u4e07\\u3002\\n\\u6587\\u7ae0\\u9605\\u8bfb\\u91cf\\uff0c\\u4ece 3\\u30014 \\u767e\\uff0c\\u4e0a\\u5347\\u5230\\u5e73\\u5747 2\\u30013 \\u5343\\u3002\\u7528\\u5fc3\\u4e00\\u70b9\\uff0c\\u4e5f\\u80fd\\u5230 4\\u30015\\u5343\\u3002\\n\\u6211\\u5728\\u65e5\\u66f4\\u7684\\u65f6\\u5019\\uff0c\\u8fd8\\u540c\\u6b65\\u5f00\\u542f\\u4e86\\u4e00\\u4e2a\\u6210\\u957f\\u793e\\u7fa4\\uff0c\\u73b0\\u5728\\u6709 6 \\u4e07\\u4eba\\u4e86\\u3002\\n\\u6211\\u7684\\u516c\\u4f17\\u53f7\\uff0c\\u4e5f\\u80fd\\u63a5\\u5546\\u52a1\\u5e7f\\u544a\\u4e86\\uff0c\\u5e73\\u5747 2000 \\u9605\\u8bfb\\u91cf\\uff0c\\u6211\\u4e00\\u7bc7\\u8d39\\u75286000-8000\\uff0c\\u8fd9\\u8fd8\\u6709\\u5f88\\u591a\\u5e7f\\u544a\\u5546\\u590d\\u6295\\u3002\\n\\u6211\\u516c\\u4f17\\u53f7\\u63a8\\u8350\\u7684\\u4e00\\u4e9b\\u4ea7\\u54c1\\u3001\\u8bfe\\u7a0b\\uff0c\\u6548\\u679c\\u90fd\\u4e0d\\u9519\\u3002\\n2000 \\u95e8\\u7968\\u7684\\u751f\\u8d22\\u6709\\u672f\\uff0c\\u5356\\u4e86 420 \\u591a\\u5f20\\uff0c\\u9080\\u8bf7\\u6392\\u884c\\u699c\\u7b2c\\u4e00\\u3002\\n\\u5e05\\u5f20\\uff08stormzhang\\uff09\\u8001\\u5e08\\u7684\\u793e\\u7fa4\\uff0c\\u83b7\\u5f97\\u4e00\\u9897\\u5b88\\u62a4\\u5956\\u52b1\\uff0c\\u76ee\\u6807\\u5b88\\u62a4\\u6392\\u884c\\u699c\\u7b2c\\u4e00\\u3002\\n\\u7ca5\\u5de6\\u7f57\\u8001\\u5e08\\u7684\\u65f6\\u95f4\\u7ba1\\u7406\\u8bfe\\uff0c\\u5356\\u4e86 900 \\u591a\\u4efd\\uff0c\\u5206\\u9500\\u699c\\u7b2c\\u4e00\\u3002\\n\\u6839\\u6e90\\u8001\\u5e08\\u7684\\u6c9f\\u901a\\u8bfe\\uff0c\\u5356\\u4e86 250 \\u591a\\u4efd\\uff08\\u603b\\u9500\\u552e\\u6570400+\\uff09\\uff0c\\u6392\\u540d\\u7b2c\\u4e00\\u3002\\n\\u6d9b\\u54e5\\u7684\\u5e73\\u6c11\\u521b\\u4e1a\\u624b\\u518c\\u661f\\u7403\\uff0c\\u9080\\u8bf7\\u699c\\u6392\\u540d\\u7b2c\\u4e00\\u3002\\ncaoz \\u8001\\u5e08\\u7684\\u793e\\u7fa4\\uff0c\\u9080\\u8bf7\\u6392\\u884c\\u699c\\u7b2c\\u4e00\\u3002\\n\\u6a0a\\u767b\\u8bfb\\u4e66\\u5206\\u9500\\uff0c\\u6392\\u884c\\u699c\\u7b2c\\u4e00\\u3002\\n\\u800c\\u4e14\\u56e0\\u4e3a\\u5199\\u7684\\u591a\\uff0c\\u88ab\\u66f4\\u591a\\u4eba\\u77e5\\u9053\\uff0c\\u6211\\u7684\\u516c\\u4f17\\u53f7\\u3001\\u6587\\u7ae0\\uff0c\\u4e5f\\u88ab\\u5f88\\u591a\\u5927\\u4f6c\\u63a8\\u8350\\u8fc7\\uff0c\\u6bd4\\u5982\\uff0c\\u66f9\\u5927\\u3001\\u5f20\\u54e5\\u3001\\u4ea6\\u4ec1\\u3001\\u6d9b\\u54e5\\u7b49\\u3002\\n\\u5982\\u679c\\u4ece\\u4e00\\u4e2a\\u73b0\\u5b9e\\u7684\\u89d2\\u5ea6\\u6765\\u8bb2\\uff0c\\u6211\\u7684\\u6536\\u5165\\u63d0\\u5347\\u4e86\\u4e0d\\u6b62 10 \\u500d\\uff0c\\u4f46\\u76f8\\u5e94\\u9700\\u8981\\u4ed8\\u51fa\\u7684\\u6210\\u672c\\uff0c\\u5374\\u53d8\\u5f97\\u975e\\u5e38\\u5c0f\\u3002\\n\\u5f53\\u7136\\uff0c\\u8fd8\\u6709\\u5f88\\u591a\\u300c\\u9690\\u5f62\\u300d\\u6536\\u76ca\\uff0c\\u6211\\u5e76\\u6ca1\\u6709\\u5199\\u51fa\\u6765\\uff0c\\u6bd4\\u5982\\u77e5\\u8bc6\\u3001\\u80fd\\u529b\\u3001\\u5fc3\\u6027\\u7b49\\u7b49\\u3002\\n\\u8fd9\\u4e9b\\u90fd\\u662f\\uff0c\\u6301\\u7eed\\u5199\\u4f5c\\u5e26\\u7ed9\\u6211\\u7684\\u6536\\u76ca\\uff0c\\u672a\\u6765\\u4e5f\\u4f1a\\u6301\\u7eed\\u5e26\\u7ed9\\u6211\\u66f4\\u5927\\u7684\\u6536\\u76ca\\u3002\\n\\u90a3\\uff0c\\u56de\\u5230\\u4e4b\\u524d\\u7684\\u95ee\\u9898\\uff0c\\u4e3a\\u4ec0\\u4e48\\u6211\\u7b2c\\u4e09\\u6b21\\u65e5\\u66f4\\uff0c\\u80fd\\u575a\\u6301\\u4e0b\\u6765\\uff1f\\u6211\\u505a\\u4e86\\u4ec0\\u4e48\\u4e0d\\u4e00\\u6837\\u7684\\u4e8b\\u60c5\\uff1f\\n\\u7b54\\u6848\\u662f\\uff1a\\u6211\\u60f3\\u6e05\\u695a\\u4e86\\uff0c\\u5199\\u4f5c\\u7684\\u610f\\u4e49\\u3002\\n\\u4e5f\\u5c31\\u662f\\uff0c\\u6211\\u4e3a\\u4ec0\\u4e48\\u8981\\u5199\\u4f5c\\uff1f\\n\\u56e0\\u4e3a\\u53ea\\u6709\\u60f3\\u6e05\\u695a\\u300c\\u4e3a\\u4ec0\\u4e48\\u8981\\u5199\\u300d\\uff0c\\n\\u5199\\u4ec0\\u4e48\\uff0c\\u548c\\u5982\\u4f55\\u5199\\uff0c\\u624d\\u80fd\\u66f4\\u6709\\u65b9\\u5411\\uff0c\\u66f4\\u6709\\u6548\\u7387\\u3002\\n\\u6211\\u4eec\\u4e5f\\u624d\\u4f1a\\u66f4\\u6709\\u52a8\\u529b\\uff0c\\u66f4\\u6709\\u80fd\\u91cf\\uff0c\\u66f4\\u6709\\u4fe1\\u5fc3\\uff0c\\u66f4\\u6709\\u8010\\u5fc3\\uff0c\\u66f4\\u6ee1\\u5fc3\\u6b22\\u559c\\u7684\\u53bb\\u5199\\u3002\\n\\u800c\\u4e0d\\u662f\\u628a\\u5b83\\uff0c\\u5f53\\u6210\\u4e00\\u4e2a\\u300c\\u4e3a\\u4e86\\u5199\\u4f5c\\u800c\\u5199\\u4f5c\\u300d\\u7684\\u4efb\\u52a1\\u3002\\n3 \\u5199\\u4f5c\\u5bf9\\u6211\\u7684\\u610f\\u4e49\\n\\u5176\\u5b9e\\u524d\\u9762\\u7b2c 10 -17 \\u8282\\uff0c\\u5c31\\u662f\\u5728\\u5c31\\u5199\\u4f5c\\u7684\\u610f\\u4e49\\u3002\\n\\u603b\\u7ed3\\u8d77\\u6765\\u5c31\\u662f\\uff0c\\u5199\\u4f5c\\u80fd\\u5e2e\\u52a9\\u6211\\u4eec \\u2014\\u2014\\n\\u63d0\\u5347\\u5b66\\u4e60\\u80fd\\u529b\\u3001\\u601d\\u8003\\u80fd\\u529b\\u3001\\u7528\\u6237\\u89c6\\u89d2\\u3001\\u9500\\u552e\\u80fd\\u529b\\n\\u8ba9\\u6211\\u4eec\\u80fd\\u91cf\\u53d8\\u5f97\\u66f4\\u5f3a\\uff0c\\u5fc3\\u6001\\u53d8\\u7684\\u66f4\\u597d\\uff0c\\n\\u63d0\\u9ad8 10 \\u500d\\u8d5a\\u94b1\\u6548\\u7387\\uff0c\\u6784\\u5efa\\u4e00\\u4e2a\\u590d\\u5229\\u6536\\u5165\\u7cfb\\u7edf\\n\\u542c\\u8d77\\u6765\\u5f88\\u865a?\\n\\u786e\\u5b9e\\u5f88\\u865a\\u3002\\n\\u56e0\\u4e3a\\uff0c\\u8fd9\\u4e9b\\u80fd\\u529b\\uff0c\\u6ca1\\u6cd5\\u7acb\\u523b\\u53d8\\u6210\\u6536\\u76ca\\uff0c\\u6bd4\\u5982\\u7c89\\u4e1d\\u3001\\u5e7f\\u544a\\u3001\\u53d8\\u73b0\\u7b49\\u7b49\\u3002\\n\\u5b83\\u53ea\\u6709\\u5728\\u672a\\u6765\\uff0c\\u624d\\u80fd\\u5e2e\\u52a9\\u6211\\u4eec\\u505a\\u51fa\\u66f4\\u591a\\uff0c\\u6709\\u96be\\u5ea6\\u7684\\u4e8b\\u60c5\\uff0c\\u8fdb\\u800c\\u83b7\\u5f97\\u6536\\u5165\\u3002\\n\\u8fd8\\u6709\\u66f4\\u865a\\u7684\\uff0c\\u5199\\u4f5c\\u80fd\\u5e2e\\u52a9\\u6211\\u4eec\\uff0c\\u66f4\\u6709\\u8010\\u5fc3\\u3001\\u52c7\\u6c14\\u3001\\u6bc5\\u529b\\u3001\\u79ef\\u6781\\u3001\\u81ea\\u4fe1\\u2026\\u2026\\n\\u770b\\u5230\\u8fd9\\u91cc\\uff0c\\u53ef\\u80fd\\u6709\\u540c\\u5b66\\u90fd\\u4e0d\\u8010\\u70e6\\u4e86\\uff1a\\u6211\\u60f3\\u542c\\u600e\\u4e48\\u5feb\\u901f\\u6da8\\u7c89\\uff0c\\u600e\\u4e48\\u5feb\\u901f\\u6253\\u9020\\u4e2a\\u4ebaIP\\uff1f\\u4f60\\u5374\\u7ed9\\u6211\\u8bb2\\uff0c\\u63d0\\u5347\\u5b66\\u4e60\\u80fd\\u529b\\uff0c\\u8fd8\\u8bb2\\u8010\\u5fc3\\u3001\\u52c7\\u6c14\\uff1f\\n\\u55ef\\uff0c\\u662f\\u7684\\u3002\\n\\u56e0\\u4e3a\\uff0c\\u540e\\u8005\\uff0c\\u662f\\u524d\\u8005\\u7684\\u57fa\\u7840\\u3001\\u524d\\u63d0\\u3002\\n\\u4e5f\\u5c31\\u662f\\uff0c\\u4e0a\\u9762 4 \\u4e2a\\u80fd\\u529b\\u548c\\u8010\\u5fc3\\u3001\\u52c7\\u6c14\\u2026\\u2026\\uff0c\\u662f\\u6da8\\u7c89\\u3001\\u5e7f\\u544a\\u3001\\u53d8\\u73b0\\u7684\\u524d\\u63d0\\u3002\\n\\u8fd9\\u662f\\u903b\\u8f91\\uff0c\\u4e0d\\u662f\\u9e21\\u6c64 \\u2014\\u2014\\n\\u8981\\u6da8\\u7c89\\uff0c\\u6838\\u5fc3\\u662f\\u6587\\u7ae0\\u8d28\\u91cf\\u9ad8\\uff0c\\u80fd\\u63d0\\u4f9b\\u4ef7\\u503c\\uff0c\\u8fd9\\u6837\\u8bfb\\u8005\\u624d\\u613f\\u610f\\u5173\\u6ce8\\u3002\\n\\u90a3\\u600e\\u4e48\\u624d\\u80fd\\u8ba9\\u6587\\u7ae0\\u63d0\\u4f9b\\u4ef7\\u503c\\uff1f\\n\\u9760\\u4ec0\\u4e48\\uff1f\\n\\u9760\\u5b66\\u4e60\\u3001\\u9760\\u601d\\u8003\\u3001\\u9760\\u4e86\\u89e3\\u8bfb\\u8005 \\u2014\\u2014 \\u80fd\\u529b\\n\\u9760\\u957f\\u671f\\u523b\\u610f\\u7ec3\\u4e60\\uff0c\\u719f\\u80fd\\u751f\\u5de7 \\u2014\\u2014 \\u8010\\u5fc3\\u3001\\u52c7\\u6c14\\u2026\\u2026\\n\\u7406\\u89e3\\u8fd9\\u70b9\\uff0c\\u4f60\\u5c31\\u80fd\\u660e\\u767d\\uff0c\\u4e3a\\u4ec0\\u4e48\\u5f88\\u591a\\u4eba\\u5199\\u4e86\\u4e00\\u6bb5\\u65f6\\u95f4\\uff0c\\u5c31\\u5199\\u4e0d\\u4e0b\\u53bb\\u4e86\\u7684\\u6838\\u5fc3\\u539f\\u56e0\\u3002\\n\\u56e0\\u4e3a\\u4ed6\\u4ece\\u4e00\\u5f00\\u59cb\\uff0c\\u5c31\\u672c\\u672b\\u5012\\u7f6e\\u4e86\\u3002\\n\\u6b63\\u786e\\u7684\\u7684\\u903b\\u8f91\\u662f \\u2014\\u2014\\n\\u4f60\\u6bcf\\u5199\\u4e00\\u7bc7\\u6587\\u7ae0\\uff0c\\u867d\\u7136\\u6ca1\\u8d5e\\u8d4f\\uff0c\\u6ca1\\u8f6c\\u53d1\\uff0c\\u751a\\u81f3\\u6ca1\\u9605\\u8bfb\\uff0c\\u4f46\\u5b83\\u8ba9\\u4f60\\u67d0\\u65b9\\u9762\\u80fd\\u529b\\u63d0\\u5347\\u4e86\\u3002\\n\\u90a3\\u8fd9\\u7bc7\\u6587\\u7ae0\\uff0c\\u5c31\\u5fc5\\u7136\\u4f1a\\u5728\\u672a\\u6765\\uff0c\\u5e2e\\u4f60\\u8d5a\\u5230\\u5f88\\u591a\\u94b1\\u3002\\n\\u8fd9\\u53eb\\u505a\\uff0c\\u4ee5\\u7ec8\\u4e3a\\u59cb\\uff0c\\u6d3b\\u5728\\u672a\\u6765 \\u2014\\u2014\\n\\u4f60\\u77e5\\u9053\\uff0c\\u672a\\u6765\\u8d5a\\u94b1\\uff0c\\u9700\\u8981\\u4ec0\\u4e48\\u80fd\\u529b\\u3002\\n\\u4f60\\u4ece\\u73b0\\u5728\\u5f00\\u59cb\\uff0c\\u901a\\u8fc7\\u5199\\u4f5c\\uff0c\\u953b\\u70bc\\u8fd9\\u4e9b\\u80fd\\u529b\\uff08\\u8fd9\\u662f\\u4e00\\u4e2a\\u5ba2\\u89c2\\u4e8b\\u5b9e\\uff09\\u3002\\n\\u90a3\\u4f60\\u672a\\u6765\\uff0c\\u5c31\\u5fc5\\u7136\\u80fd\\u8d5a\\u5230\\u94b1\\u3002\\n\\u8fd8\\u662f\\u90a3\\u53e5\\u8bdd\\uff0c\\u8fd9\\u662f\\u903b\\u8f91\\uff0c\\u4e0d\\u662f\\u9e21\\u6c64\\u3002\\n\\u60f3\\u901a\\u4e86\\uff0c\\u8fd9\\u4e2a\\u672a\\u6765\\u5c31\\u4f1a\\u6bcf\\u5929\\u7ed9\\u4f60\\u63d0\\u4f9b\\u6e90\\u6e90\\u4e0d\\u65ad\\u7684\\u80fd\\u91cf\\uff0c\\u6fc0\\u52b1\\u4f60\\u6bcf\\u5929\\u53bb\\u5199\\uff0c\\u4e00\\u76f4\\u8d70\\u5230\\u672a\\u6765\\u3002\\n\\u60f3\\u4e0d\\u901a\\uff0c\\u5c31\\u5927\\u6982\\u7387\\u4f1a\\u6d45\\u5c1d\\u8f84\\u6b62\\uff0c\\u534a\\u9014\\u800c\\u5e9f\\u3002\\n\\u8fd9\\u4e0d\\u6b62\\u9002\\u7528\\u4e8e\\u5199\\u4f5c\\uff0c\\u4e5f\\u9002\\u7528\\u4e8e\\u5176\\u4ed6\\u5404\\u4e2a\\u65b9\\u9762\\uff0c\\u6bd4\\u5982\\uff0c\\u8bfb\\u4e66\\u3001\\u6f14\\u8bb2\\u3001\\u7f16\\u7a0b\\u7b49\\u7b49\\u3002\\n\\u90a3\\u5982\\u4f55\\u624d\\u80fd\\u60f3\\u901a\\uff1f\\n\\u7b54\\u6848\\u662f\\uff1a\\u91cd\\u590d\\u591a\\u6b21\\uff0c\\u5185\\u5316\\u5230\\u5927\\u8111\\u91cc\\u3002\\n\\u62ff\\u5199\\u4f5c\\u6765\\u8bf4\\uff0c\\n\\u4f60\\u53ef\\u4ee5\\u53bb\\u4f60\\u559c\\u6b22\\u7684\\u516c\\u4f17\\u53f7\\u4f5c\\u8005\\u3001\\u4e66\\u3001\\u670b\\u53cb\\u3001\\u9ad8\\u624b\\u3001\\u5927\\u4f6c\\u3001\\u5f97\\u5230\\u3001\\u5fae\\u4fe1\\u8bfb\\u4e66\\u91cc\\uff0c\\u641c\\u4ed6\\u4eec\\u5bf9\\u5199\\u4f5c\\u7684\\u770b\\u6cd5\\uff0c\\u63cf\\u8ff0\\u5199\\u4f5c\\u7684\\u597d\\u5904\\u3002\\n\\u628a\\u4f60\\u6709\\u611f\\u89e6\\u7684\\u53e5\\u5b50\\u3001\\u6587\\u7ae0\\u3001\\u6bb5\\u843d\\uff0c\\u5168\\u90e8\\u6574\\u7406\\u5230\\u4e00\\u4e2a\\u6587\\u6863\\u91cc\\uff0c\\u6bcf\\u5929\\u8bfb\\u4e00\\u904d\\uff0c\\u751a\\u81f3\\u6709\\u65f6\\u95f4\\u5c31\\u770b\\u4e00\\u904d\\u3002\\n\\u6211\\u7684\\u65b9\\u6cd5\\u662f\\uff0c\\u8d34\\u5728\\u5899\\u4e0a\\uff0c\\u968f\\u65f6\\u770b\\u3002\\n\\u770b\\u7684\\u591a\\u4e86\\uff0c\\u6709\\u5947\\u6548\\u3002\\n\\u8fd9\\u662f\\u4e00\\u4e2a\\u4eba\\u80fd\\u6301\\u7eed\\u8f93\\u51fa\\uff0c\\u6700\\u91cd\\u8981\\u3001\\u6700\\u5e95\\u5c42\\u3001\\u6700\\u6838\\u5fc3\\u7684\\u4e00\\u4e2a\\u539f\\u56e0\\u3002\\n\",\n",
            "        0.5667308568954468\n",
            "    ],\n",
            "    [\n",
            "        \"\\u5199\\u4f5c\\u57fa\\u7840\\u7b2c12\\u8bfe\\uff1a \\u4f60\\u7684\\u4e2a\\u4eba\\u80fd\\u529b\\uff0c\\u51b3\\u5b9a\\u4e86\\u6587\\u7ae0\\u4ef7\\u503c\\n\\u5f88\\u591a\\u540c\\u5b66\\u5199\\u4f5c\\u65f6\\uff0c\\u90fd\\u4f1a\\u82e6\\u607c\\u4e00\\u4e2a\\u95ee\\u9898\\uff1a\\u6211\\u8be5\\u5199\\u4ec0\\u4e48\\uff1f\\n\\u5199\\u81ea\\u5df1\\u7684\\u751f\\u6d3b\\u3001\\u601d\\u8003\\uff1f\\u597d\\u50cf\\u5bf9\\u522b\\u4eba\\u6ca1\\u4ef7\\u503c\\uff0c\\u8bfb\\u8005\\u4e0d\\u4f1a\\u559c\\u6b22\\u3002\\n\\u5199\\u4e13\\u4e1a\\u5185\\u5bb9\\uff1f\\u81ea\\u5df1\\u597d\\u50cf\\u80fd\\u529b\\u4e0d\\u591f\\u3002\\n\\u8ffd\\u70ed\\u70b9\\uff1f\\u4e0d\\u559c\\u6b22\\u8fd9\\u79cd\\u5f62\\u5f0f\\u3002\\n\\u4e8e\\u662f\\uff0c\\u5199\\u4f5c\\u8fd9\\u4ef6\\u4e8b\\uff0c\\u5c31\\u6162\\u6162\\u4e0d\\u4e86\\u4e86\\u4e4b\\u4e86\\u3002\\n\\u8fd9 3 \\u4e2a\\u95ee\\u9898\\uff0c\\u6211\\u5728\\u65e5\\u66f4\\u521d\\u671f\\uff0c\\u4e5f\\u5168\\u90e8\\u7ecf\\u5386\\u8fc7\\u3002\\n\\u540e\\u6765\\uff0c\\u7ecf\\u8fc7\\u5b66\\u4e60\\u3001\\u601d\\u8003\\u3001\\u5b9e\\u8df5\\uff0c\\u6211\\u603b\\u7ed3\\u51fa\\u4e00\\u6761\\uff0c\\u9002\\u5408\\u666e\\u901a\\u4eba\\uff0c\\u4e14\\u80fd\\u8ba9\\u81ea\\u5df1\\u6301\\u7eed\\u6210\\u957f\\u7684\\u8def\\u5f84\\u3002\\n1 \\u4e00\\u5207\\u667a\\u6167\\u90fd\\u5728\\u5386\\u53f2\\u5f53\\u4e2d\\n\\u6bcf\\u5f53\\u6211\\u8981\\u505a\\u4e00\\u4ef6\\u4e8b\\u60c5\\uff0c\\u4f46\\u4e0d\\u4f1a\\u505a\\uff0c\\u6216\\u8005\\u6ca1\\u5934\\u7eea\\uff0c\\u6211\\u90fd\\u4f1a\\u60f3\\u5230\\u8fd9\\u53e5\\u8bdd \\u2014\\u2014\\n\\u4e00\\u5207\\u667a\\u6167\\u90fd\\u5728\\u5386\\u53f2\\u5f53\\u4e2d\\uff1a\\u6211\\u4eec\\u9047\\u5230\\u7684\\u4e00\\u5207\\u95ee\\u9898\\uff0c\\u90fd\\u4e00\\u5b9a\\u6709\\u524d\\u4eba\\u9047\\u5230\\u8fc7\\uff0c\\u5e76\\u4e14\\u5df2\\u7ecf\\u89e3\\u51b3\\u6389\\uff0c\\u8bb0\\u5f55\\u4e86\\u4e0b\\u6765\\u3002\\u6211\\u4eec\\u8981\\u505a\\u7684\\uff0c\\u5c31\\u662f\\u627e\\u5230\\u8fd9\\u4e9b\\u5185\\u5bb9\\uff0c\\u5b66\\u4e60\\u3001\\u601d\\u8003\\u3001\\u5438\\u6536\\u3002\\u5b83\\u5c31\\u80fd\\u5e2e\\u52a9\\u6211\\u4eec\\u89e3\\u51b3\\u95ee\\u9898\\u3002\\n\\u6211\\u6700\\u521d\\u65e5\\u66f4\\u65f6\\uff0c\\u4e5f\\u7ecf\\u5e38\\u70e6\\u607c\\uff0c\\u4e0d\\u77e5\\u9053\\u8be5\\u5199\\u5565\\u3002\\n\\u4e8e\\u662f\\uff0c\\u6211\\u5c31\\u7814\\u7a76\\u4e86\\u4e00\\u4e9b\\uff0c\\u65e5\\u66f4\\u505a\\u7684\\u6bd4\\u8f83\\u597d\\u7684\\u524d\\u8f88\\uff0c\\u770b\\u4ed6\\u4eec\\u662f\\u5982\\u4f55\\u89e3\\u51b3\\u8fd9\\u4e2a\\u95ee\\u9898\\u7684\\u3002\\n\\u4e3b\\u8981\\u662f 2 \\u4e2a\\u8001\\u5e08 \\u2014\\u2014\\nScalers\\n\\u8f89\\u54e5\\n\\u6700\\u540e\\uff0c\\u771f\\u7684\\u627e\\u5230\\u4e86\\u89e3\\u51b3\\u65b9\\u6848\\uff0c\\u7136\\u540e\\u5c31\\u4e00\\u76f4\\u5199\\u4e86\\u4e0b\\u6765\\u3002\\n\\u800c\\u4e14\\u6211\\u53d1\\u73b0\\uff0c\\u8fd9\\u4e24\\u4e2a\\u8001\\u5e08\\u7684\\u601d\\u8def\\uff0c\\u5e95\\u5c42\\u90fd\\u662f\\u540c\\u4e00\\u4e2a\\u903b\\u8f91\\u3002\\n2 \\u8f89\\u54e5\\u548c Scalers \\u7684\\u65e5\\u66f4\\u601d\\u8def\\n\\u6211\\u5728\\u8f89\\u54e5\\u661f\\u7403\\u91cc\\uff0c\\u770b\\u5230\\u8fc7 2 \\u4e2a\\u5e16\\u5b50 \\u2014\\u2014\\n\\u8f89\\u54e5\\u8bf4 \\u2014\\u2014\\n\\u6211\\u4eec\\u53ef\\u4ee5\\u4ece\\u81ea\\u8eab\\u95ee\\u9898\\uff0c\\u53d1\\u73b0\\u66f4\\u591a\\u4eba\\u540c\\u6837\\u7684\\u95ee\\u9898\\uff0c\\u6211\\u4eec\\u53ef\\u4ee5\\u4ee5\\u89e3\\u51b3\\u66f4\\u591a\\u4eba\\u95ee\\u9898\\u4e3a\\u51fa\\u53d1\\u70b9\\uff0c\\u63a8\\u52a8\\u6211\\u4eec\\u521b\\u9020\\u66f4\\u591a\\u7684\\u4ef7\\u503c\\uff0c\\u8ba9\\u6240\\u6709\\u4e0e\\u6211\\u4eec\\u906d\\u9047\\u540c\\u6837\\u75db\\u82e6\\u7684\\u4eba\\u53d7\\u76ca\\u3002\\u8fd9\\u6837\\uff0c\\u6211\\u4eec\\u5728\\u670d\\u52a1\\u5927\\u4f17\\u7684\\u524d\\u63d0\\u4e0b\\uff0c\\u987a\\u624b\\u89e3\\u51b3\\u4e86\\u5c0f\\u6211\\u7684\\u95ee\\u9898\\u3002\\n\\u6211\\u5728 Scalers \\u8001\\u5e08\\u7684\\u300a\\u6301\\u7eed\\u884c\\u52a8\\u300b\\u4e2d\\uff0c\\u4e5f\\u8bfb\\u5230\\u8fc7\\u4e00\\u53e5\\u8bdd \\u2014\\u2014 \\u5982\\u679c\\u4f60\\u662f\\u4e00\\u4e2a\\u4f1a\\u601d\\u8003\\u7684\\u4eba\\uff0c\\u90a3\\u4f60\\u7684\\u601d\\u8003\\u672c\\u8eab\\u5c31\\u6709\\u8bb8\\u591a\\u4ef7\\u503c\\uff0c\\u4f60\\u8981\\u505a\\u7684\\u5c31\\u662f\\u6839\\u636e\\u6761\\u7406\\u5448\\u73b0\\u51fa\\u6765\\u3002\\n\\u5f88\\u957f\\u4e00\\u6bb5\\u65f6\\u95f4\\uff0c\\u8fd9\\u53e5\\u8bdd\\u90fd\\u88ab\\u6211\\u6253\\u5370\\u51fa\\u6765\\uff0c\\u8d34\\u5728\\u5899\\u4e0a\\uff0c\\u6bcf\\u6b21\\u5199\\u6587\\u7ae0\\u90fd\\u770b\\u4e00\\u904d\\u3002\\n\\u8fd9 2 \\u4f4d\\u8001\\u5e08\\u7684\\u601d\\u8def\\uff0c\\u5c31\\u662f\\u6211\\u73b0\\u5728\\u4e00\\u76f4\\u8fd0\\u7528\\u7684\\u65e5\\u66f4\\u7b56\\u7565\\u3002\\n\\u5177\\u4f53\\u5982\\u4f55\\u505a\\uff1f\\n3 \\u5199\\u4f5c\\uff0c\\u5148\\u4e3a\\u81ea\\u5df1\\u800c\\u5199\\n\\u4ee5\\u524d\\u6211\\u5199\\u6587\\u7ae0\\u65f6\\uff0c\\u7ecf\\u5e38\\u4f1a\\u53bb\\u601d\\u8003\\uff1a\\u8bfb\\u8005\\u5230\\u5e95\\u559c\\u6b22\\u770b\\u4ec0\\u4e48\\uff1f\\u6211\\u5199\\u4ec0\\u4e48\\u4e1c\\u897f\\uff0c\\u80fd\\u63d0\\u4f9b\\u4ef7\\u503c\\uff1f\\n\\u4f46\\u6211\\u53d1\\u73b0\\uff0c\\u5373\\u4fbf\\u81ea\\u5df1\\u60f3\\u4e86\\u5f88\\u4e45\\uff0c\\u5199\\u51fa\\u6765\\u7684\\u6587\\u7ae0\\u6548\\u679c\\u4f9d\\u7136\\u4e0d\\u597d\\u3002\\n\\u56e0\\u4e3a\\uff0c\\u5728\\u5199\\u4f5c\\u8fd9\\u4ef6\\u4e8b\\u4e0a\\uff1a\\u6587\\u7ae0\\u4ef7\\u503c\\u548c\\u80fd\\u529b\\u662f\\u6210\\u6b63\\u6bd4\\u7684\\u3002\\n\\u4e5f\\u5c31\\u662f\\uff0c\\n\\u4e00\\u4e2a\\u4eba\\u77e5\\u8bc6\\u591a\\u3001\\u80fd\\u529b\\u5f3a\\uff0c\\u6587\\u7ae0\\u81ea\\u7136\\u5c31\\u6709\\u4ef7\\u503c\\u3002\\n\\u4e00\\u4e2a\\u77e5\\u8bc6\\u5c11\\uff0c\\u80fd\\u529b\\u5f31\\uff0c\\u4ed6\\u518d\\u600e\\u4e48\\u5199\\uff0c\\u7528\\u5404\\u79cd\\u6280\\u5de7\\u3001\\u8bdd\\u672f\\u7b49\\uff0c\\u6587\\u7ae0\\u8fd8\\u662f\\u6ca1\\u4ef7\\u503c\\u3002\\n\\u6240\\u4ee5\\uff0c\\u6211\\u60f3\\u6e05\\u695a\\u4e86\\uff0c\\u5f53\\u81ea\\u5df1\\u80fd\\u529b\\u4e0d\\u591f\\uff0c\\u7528\\u6237\\u89c6\\u89d2\\u4e0d\\u591f\\u5f3a\\u65f6\\uff0c\\u6211\\u6ca1\\u6cd5\\u77e5\\u9053\\u8bfb\\u8005\\u9700\\u8981\\u4ec0\\u4e48\\u3002\\u90a3\\u5f53\\u7136\\uff0c\\u6211\\u5c31\\u6ca1\\u6cd5\\u7ed9\\u8bfb\\u8005\\u63d0\\u4f9b\\u4ef7\\u503c\\u3002\\n\\u8fd9\\u65f6\\u5019\\uff0c\\u5982\\u679c\\u6211\\u786c\\u903c\\u7740\\u81ea\\u5df1\\uff0c\\u7ed9\\u522b\\u4eba\\u63d0\\u4f9b\\u300c\\u4ef7\\u503c\\u300d\\uff0c\\u90a3\\u5199\\u51fa\\u6765\\u7684\\u6587\\u7ae0\\uff0c\\u66f4\\u53ef\\u80fd\\u662f\\u81ea\\u55e8\\u3002\\n\\u6700\\u540e\\u7684\\u7ed3\\u679c\\uff0c\\u5c31\\u662f\\u6211\\u4f1a\\u6709\\u4e00\\u79cd\\u300c\\u6211\\u5199\\u7684\\u8fd9\\u4e48\\u597d\\uff0c\\u4ed6\\u4eec\\u600e\\u4e48\\u4e0d\\u8bc6\\u8d27\\u300d\\u7684\\u632b\\u8d25\\u611f\\uff0c\\u5c31\\u66f4\\u53ef\\u80fd\\u534a\\u9014\\u800c\\u5e9f\\u3002\\n\\u4e8e\\u662f\\uff0c\\u6211\\u6839\\u636e\\u8f89\\u54e5\\u548c Scalers \\u7684\\u65b9\\u6cd5\\uff0c\\u6362\\u4e86\\u4e00\\u4e2a\\u601d\\u8def\\u3002\\n\\u6bcf\\u6b21\\u5199\\u6587\\u7ae0\\u65f6\\uff0c\\u6211\\u4f1a\\u4ece\\u81ea\\u8eab\\u51fa\\u53d1\\u601d\\u8003 \\u2014\\u2014\\n1 \\u6211\\u5de5\\u4f5c\\u9047\\u5230\\u54ea\\u4e9b\\u95ee\\u9898\\uff0c\\u522b\\u4eba\\u662f\\u5426\\u6709\\u8fd9\\u6837\\u7684\\u95ee\\u9898\\uff1f\\n2 \\u6211\\u5b66\\u5230\\u54ea\\u4e9b\\u77e5\\u8bc6\\uff0c\\u522b\\u4eba\\u662f\\u5426\\u9700\\u8981\\u8fd9\\u4e9b\\u77e5\\u8bc6\\uff1f\\n3 \\u6211\\u601d\\u8003\\u4e86\\u54ea\\u4e9b\\u95ee\\u9898\\uff0c\\u522b\\u4eba\\u662f\\u6709\\u8fd9\\u4e9b\\u95ee\\u9898\\uff1f\\n4 \\u6211\\u9047\\u5230\\u4ec0\\u4e48\\u60c5\\u7eea\\u95ee\\u9898\\uff0c\\u522b\\u4eba\\u662f\\u5426\\u6709\\u8fd9\\u4e9b\\u60c5\\u7eea\\u95ee\\u9898\\uff1f\\n5 \\u6211\\u8d5a\\u94b1\\u8def\\u4e0a\\u9047\\u5230\\u4ec0\\u4e48\\u969c\\u788d\\uff0c\\u522b\\u4eba\\u662f\\u5426\\u4e5f\\u4f1a\\u9047\\u5230\\u8fd9\\u4e9b\\u969c\\u788d\\uff1f\\n6 \\u2026\\u2026\\n\\u4e8e\\u662f\\uff0c\\u6211\\u5199\\u4e00\\u7bc7\\u6587\\u7ae0\\u7684\\u8fc7\\u7a0b\\uff0c\\u5c31\\u662f\\u81ea\\u5df1\\u89e3\\u51b3\\u95ee\\u9898\\u7684\\u8fc7\\u7a0b\\uff0c\\u8fd9\\u6837\\u65e2\\u8ba9\\u81ea\\u5df1\\u5f97\\u5230\\u6210\\u957f\\uff0c\\u4e5f\\u80fd\\u5e2e\\u522b\\u4eba\\u89e3\\u51b3\\u95ee\\u9898\\uff0c\\u63d0\\u4f9b\\u4ef7\\u503c\\uff0c\\u4e00\\u4e3e\\u4e24\\u5f97\\u3002\\n\\u867d\\u7136\\u4e00\\u5f00\\u59cb\\uff0c\\u81ea\\u5df1\\u7684\\u5185\\u5bb9\\u5f88\\u6d45\\uff0c\\u53ea\\u5bf9\\u90e8\\u5206\\u4eba\\u6709\\u4ef7\\u503c\\uff0c\\u4f46\\u6700\\u8d77\\u7801\\u8fd9\\u80fd\\u8ba9\\u81ea\\u5df1\\u8fdb\\u6b65\\u3002\\n\\u800c\\u4e00\\u4e2a\\u4eba\\uff0c\\u53ea\\u8981\\u613f\\u610f\\u6301\\u7eed\\u5199\\uff0c\\u90a3\\u5199\\u4f5c\\u5c31\\u4f1a\\u5012\\u903c\\u4ed6\\uff0c\\u8bfb\\u66f4\\u591a\\u4e66\\u3001\\u601d\\u8003\\u66f4\\u591a\\u95ee\\u9898\\u3001\\u505a\\u66f4\\u591a\\u7814\\u7a76\\u3002\\n\\u90a3\\u4ed6\\u5fc5\\u7136\\u4f1a\\u8fdb\\u6b65\\u5f88\\u5feb\\uff1a\\u77e5\\u8bc6\\u3001\\u80fd\\u529b\\u90fd\\u4f1a\\u5feb\\u901f\\u63d0\\u5347\\u3002\\n\\u81ea\\u5df1\\u8fdb\\u6b65\\u4e86\\uff0c\\u5c31\\u80fd\\u505a\\u66f4\\u591a\\u4e8b\\u60c5\\uff0c\\u9047\\u5230\\u66f4\\u591a\\u95ee\\u9898\\uff0c\\u7136\\u540e\\u89e3\\u51b3\\u66f4\\u591a\\u95ee\\u9898\\u3002\\u4e8e\\u662f\\u80fd\\u5199\\u7684\\u5185\\u5bb9\\u8303\\u56f4\\u5c31\\u66f4\\u5927\\uff0c\\u4e5f\\u5c31\\u4f1a\\u5bf9\\u66f4\\u591a\\u4eba\\u6709\\u4ef7\\u503c\\u3002\\n\\u6240\\u4ee5\\uff0c\\u5f53\\u4f60\\u521a\\u5f00\\u59cb\\u5b66\\u4e60\\u5199\\u4f5c\\u65f6\\uff0c\\u4e0d\\u7528\\u4e13\\u95e8\\u53bb\\u60f3\\uff0c\\u8bfb\\u8005\\u9700\\u8981\\u4ec0\\u4e48\\uff1f\\u8bfb\\u8005\\u559c\\u6b22\\u770b\\u4ec0\\u4e48\\uff1f\\n\\u4e0d\\u662f\\u8bf4\\u8fd9\\u4e9b\\u95ee\\u9898\\u4e0d\\u91cd\\u8981\\uff0c\\u800c\\u662f\\u5728\\u8d77\\u6b65\\u9636\\u6bb5\\uff0c\\u6211\\u4eec\\u60f3\\u4e0d\\u6e05\\u695a\\u8fd9\\u4e9b\\u95ee\\u9898\\uff0c\\u6240\\u4ee5\\u60f3\\u4e86\\u4e5f\\u6ca1\\u7528\\u3002\\u53cd\\u800c\\u4f1a\\u8ba9\\u81ea\\u5df1\\u6709\\u632b\\u8d25\\u611f\\uff0c\\u66f4\\u5bb9\\u6613\\u653e\\u5f03\\u5199\\u4f5c\\u3002\\n\\u5c31\\u5199\\u81ea\\u5df1\\u7684\\u95ee\\u9898\\u3001\\u81ea\\u5df1\\u7684\\u601d\\u8003\\u3001\\u81ea\\u5df1\\u7684\\u7ecf\\u5386\\uff0c\\n\\u5148\\u8ba9\\u81ea\\u5df1\\u8fdb\\u6b65\\uff0c\\u7136\\u540e\\u5728\\u8fc7\\u7a0b\\u4e2d\\u4e0d\\u65ad\\u63a5\\u6536\\u7528\\u6237\\u53cd\\u9988\\uff0c\\n\\u6162\\u6162\\u7684\\uff0c\\u81ea\\u5df1\\u6210\\u957f\\u4e86\\uff0c\\n\\u6587\\u7ae0\\u5c31\\u81ea\\u7136\\u624d\\u80fd\\u7ed9\\u522b\\u4eba\\u63d0\\u4f9b\\u771f\\u6b63\\u7684\\u4ef7\\u503c\\u3002\\n\",\n",
            "        0.5606216192245483\n",
            "    ]\n",
            "]\n"
          ]
        }
      ]
    },
    {
      "cell_type": "code",
      "source": [
        "context = \"\\n\".join(\n",
        "    [line_with_distance[0] for line_with_distance in retrieved_lines_with_distances]\n",
        ")\n"
      ],
      "metadata": {
        "id": "4vAIem6weLFc"
      },
      "execution_count": 153,
      "outputs": []
    },
    {
      "cell_type": "code",
      "source": [
        "print(context)"
      ],
      "metadata": {
        "colab": {
          "base_uri": "https://localhost:8080/"
        },
        "id": "xqOPfo-Bezjt",
        "outputId": "0273d33f-babd-4ef7-d895-2f21d63b799a"
      },
      "execution_count": 154,
      "outputs": [
        {
          "output_type": "stream",
          "name": "stdout",
          "text": [
            "写作基础第07课： 普通人认识写作的 4 个阶段\n",
            "我坚持认为，对普通人来说，写作是普通人赚钱路上不可或缺的一个基础技能。\n",
            "这里不是说，你要赚钱，就一定要学写作，不学写作就一定赚不到钱。\n",
            "而是，写作可以让我们的赚钱效率、概率大大提高。\n",
            "原因在前面 10-17 节课里讲过。\n",
            "事实上，我们也能看到，身边越来越多人开始学习写作了。\n",
            "不过，有些人学习写作，不是真的理解写作是什么，而是看到别人通过写作赚钱了，所以也去学习写作。\n",
            "这种情况，大概率写不好。\n",
            "今天就来分享一下，人们对写作的认识，分为 4 个阶段。\n",
            "只有达到第 4 阶段，才算真的理解写作。\n",
            "相反，如果不理解这点，就容易变成无效勤奋。\n",
            "1 写作 = 输出\n",
            "第 1 阶段的人，看到别人通过写作赚钱，于是也想学习写作。\n",
            "他们觉得，写作主要做的事情，就是写。\n",
            "只要自己不断写，就能提高写作能力，写出好文章，获得转发，然后涨粉，接广告、变现。\n",
            "但结果是，写了 2 篇，发现没人看，没人关注，没人转发，赚不到钱，于是放弃。\n",
            "更严重的是，有的人会因此觉得：「我不适合写作」，甚至有人会觉得：我好差，为什么别人「轻轻松松」就能写出 10w+，我却做不好。他们会自我批判，产生挫败情绪，觉得自己学什么都学不好，陷入习得性无助。\n",
            "这是普通人对写作认识的第 1 阶段。\n",
            "2 写作 = 输入 + 输出\n",
            "第 2 阶段的人，比第 1 阶段的人多一些思考。\n",
            "他们会想，既然要写，那写什么呢？我没啥东西可写啊！对了，我读一些书，然后写出来就好了。于是，他们会去读一些书，然后写读书笔记、心得等。\n",
            "他们觉得只要自己多读书，然后把书里的内容写出来，就会有价值，写出好文章，获得转发，然后涨粉，接广告、变现。\n",
            "但结果是，写了 5 篇，发现还是没人看，赚不到钱，于是放弃。\n",
            "他们觉得，我都读书了，写出来的文章还没人看，说明我不适合写作。那些能写出好文章的人，应该是凭天赋吧。我没有天赋，嗯，算了。\n",
            "这是普通人对写作认识的第 2 阶段。\n",
            "3 写作 = 输入 + 思考 + 输出\n",
            "第 3 阶段的人，比第 2 阶段多一些思考。\n",
            "他们会去学习一些产品、定位、营销的知识，知道要分析目标用户，要选择写作话题等。\n",
            "他们也会听写作课、读写作书籍、学习写作技巧，吸取高手的经验来帮助自己提高写作水平。\n",
            "但是，他们的进步比较慢。\n",
            "因为，虽然他们听课、读书，学习各种写作方法。但他们会忽略了一个因素：积累。写作是一个技能，必须通过大量刻意练习，才能熟练，写出好文章。\n",
            "所以，他们大多都是学得多练得少，或者直接套用方法，或者，不懂得如何刻意练习 ，比如，什么情况下该用哪个方法，以及该如何变通，有哪些注意事项，如何根据用户反馈改进等。\n",
            "所以，他们写出来的文章，会很「僵硬」，也不够好。\n",
            "这个阶段的人，写的会比较久，大概 50 篇左右，但发现还赚不到钱，也会放弃。\n",
            "这是普通人对写作认识的第 3 阶段。\n",
            "4 写作 = 一切\n",
            "第 4 阶段的人，比第 3 阶段多了大量思考。\n",
            "他们知道，写作和赚钱一样，不是一件事，而是一个系统。\n",
            "写作 = 输入 + 思考 + 输出 + 方法 + 学习 + 需求 + 商业 + 耐心 + 长期 + 意义 + 流程 + 产品 + 营销 + 认识自己 + 认识世界 + ……等等。\n",
            "他们通过深入思考，想清楚了写作对自己的意义，对自己的长期价值。所以，他们能耐得住寂寞，在前期没有收益的阶段，既然保持热情去学习、去练习。\n",
            "这个阶段的人，都是在前面 4 个阶段，来回颠倒多次，被现实打击多次，才慢慢理解了写作。他们会完全放弃急于求成的心，大量刻意练习。\n",
            "这个阶段的人，会持续写下去。他们的写作水平，也会稳步上升。他们通过写作的收益，也会变得越来越大。\n",
            "5 总结\n",
            "写作是什么？\n",
            "写作分 3 部分——\n",
            "（1）输入：知识\n",
            "（2）处理：思考\n",
            "（3）输出：表达\n",
            "有知识积累，才有东西可写。\n",
            "能深入思考，才会对别人有用。\n",
            "会表达方法，才能让读者看懂。\n",
            "如果这 3 部分划分比例——\n",
            "输入：50%\n",
            "思考：40%\n",
            "输出：10%\n",
            "普通人认为的写作技巧，只是输出，比如开头、结尾、金句、讲故事等，这占写作的 10%。\n",
            "但前面 2 个：输入和思考，是输出的必要条件。\n",
            "如果没有优质的输入和思考，输出的只能是流水账，或者自嗨的内容。\n",
            "这也是为什么很多人听了大量的写作课，但依然写不出好文章。因为写作课教的只是一些技巧，当然也只能教这些。它最多也只能占一篇文章质量的 10%，更何况技巧也需要经过大量练习才能熟练使用，这个比例就更低了。\n",
            "要写出好文章，必须要大量输入和深入思考。\n",
            "而输入和思考，需要长期积累才能熟练运用。\n",
            "（1）输入：读书、读文章、与人交流等过程中积累的知识。\n",
            "如果把思考比作盖房子。\n",
            "那知识，就是地基。\n",
            "地基不稳，房子就没法盖起来。\n",
            "如果一个人知识积累少，那他思考任何问题，都能在有限的知识圈里徘徊。这样的思考，肯定是不及格的。就更别提后面的输出了。\n",
            "（2）思考：对一件事情的看法，也叫认知。\n",
            "思考在写作中的比例占到 40%，甚至更多。\n",
            "因为高质量的思考可以化腐朽为神奇，它相当于计算机的中央处理器。\n",
            "同样一个知识，思考的足够深入，就能变的不一样。\n",
            "很多事情，只要不断思考，就会有不同角度、不同的理解，发现以前不懂的东西，写出来，就对别人更有价值。\n",
            "思考又和能力相关。写不同类型的文章，就需要对不同领域有研究。而如果不实践，那研究就不会深入，写出来的东西可能都是纸上谈兵，就会少一些说服力。实践又和能力是相关的。\n",
            "一个能写出好文章的人，肯定在某个领域的能力很强。反之，能力不到位，写出来的文章一定不行。\n",
            "所以，写作不是一个独立事件。\n",
            "写作是一个系统。\n",
            "输入 + 思考 + 输出 + 其他。\n",
            "所有的事加到一起，才是写作这件事。\n",
            "理解这点，我们才能在写作这条路上，走的更远，并且获得更大的收益。\n",
            "\n",
            "写作基础第16课： 我能日更 900天的秘诀：意义\n",
            "自从我开始日更，被问过最多的一个问题就是：如何能让自己，长期持续输出？\n",
            "今天就来详细分享一下，我的一些经历、思考、和经验。\n",
            "1 我的写作经历\n",
            "我大学专业是自动化，但自己在外面报班学的计算机，主要是 C 语言、C++；毕业后，就直接找到一份北京的程序员工作。从事过网络、云计算方面的开发工作，翻译过一本云计算的书籍《深入理解 OpenStack Trove》。\n",
            "这个阶段，我并没有写作经验。\n",
            "甚至可以说，从来没有觉得，写作是一种重要的事情。\n",
            "后来慢慢的，开始接触产品、运营、商业领域的事情，于是开始学习写作。\n",
            "一开始，就是心血来潮，看到别人做公众号，觉得新奇，也注册了一个。\n",
            "这个阶段没把写作当回事，就随便瞎写。写的是生活、英语、读书之类的。但因为没有正反馈，所以就没啥太大的动力。\n",
            "再后来，看到身边写作的人越来越多，我对写作的认识，也越来越深。于是，开始报课、买书，打算认真学习写作。\n",
            "我最早的想法是，听完一个课，学会一些写作技巧，我的写作水平应该会突飞猛进吧。但发现，虽然学了很多方法，比如起标题、搭框架、写开头、写结尾等等，但写出来的文章，还是一般般。于是，写作的热情，也慢慢消散了。\n",
            "再再后来，我读了一些学习方面的书，知道了刻意练习这个概念。明白了学习一个技能，必须大量练习。\n",
            "于是，我开始尝试日更。\n",
            "我日更过两次，\n",
            "第一次，60 天，失败了。\n",
            "第二次，2 天，失败了。\n",
            "第三次，就是从去年 5 月份开始，到现在，持续了快 600+ 天，一天没断过。\n",
            "可能有同学就要问：为什么你第三次，能坚持下来？你做了啥不一样的事情？\n",
            "在回答这个问题前，我先分享一下，自己日更 600 天的收获吧。\n",
            "如果没收获，只是写流水账，那日更 600 天，也属于无效勤奋。就没啥值得分享的。\n",
            "2 我日更 600 天的收获\n",
            "1 写作方面\n",
            "（1）写作效率：从一开始的磕磕绊绊，4、5 个小时才能憋出一篇文章。到现在，每天 1-2 小时就能完成日更的 1500-2000 字文章。甚至有时候状态好，10 分钟就能完成 1000 字的文章。\n",
            "（2）文章质量：原来的文章，主题模糊，逻辑混乱。现在，每篇文章都有自己的思考，从分享数、收藏数来看，对读者也有更大价值。还在一个细分领域里，写过一篇 10w+（加上转载）\n",
            "（3）写作系统：原来写文章，无论是定话题，还是搭框架，都是凭感觉。现在，建立了一套自己的写作系统，能做到持续高质量输出。\n",
            "2 数据方面\n",
            "公众号关注数，从不到 2000 ，上升到快 5 万。\n",
            "文章阅读量，从 3、4 百，上升到平均 2、3 千。用心一点，也能到 4、5千。\n",
            "我在日更的时候，还同步开启了一个成长社群，现在有 6 万人了。\n",
            "我的公众号，也能接商务广告了，平均 2000 阅读量，我一篇费用6000-8000，这还有很多广告商复投。\n",
            "我公众号推荐的一些产品、课程，效果都不错。\n",
            "2000 门票的生财有术，卖了 420 多张，邀请排行榜第一。\n",
            "帅张（stormzhang）老师的社群，获得一颗守护奖励，目标守护排行榜第一。\n",
            "粥左罗老师的时间管理课，卖了 900 多份，分销榜第一。\n",
            "根源老师的沟通课，卖了 250 多份（总销售数400+），排名第一。\n",
            "涛哥的平民创业手册星球，邀请榜排名第一。\n",
            "caoz 老师的社群，邀请排行榜第一。\n",
            "樊登读书分销，排行榜第一。\n",
            "而且因为写的多，被更多人知道，我的公众号、文章，也被很多大佬推荐过，比如，曹大、张哥、亦仁、涛哥等。\n",
            "如果从一个现实的角度来讲，我的收入提升了不止 10 倍，但相应需要付出的成本，却变得非常小。\n",
            "当然，还有很多「隐形」收益，我并没有写出来，比如知识、能力、心性等等。\n",
            "这些都是，持续写作带给我的收益，未来也会持续带给我更大的收益。\n",
            "那，回到之前的问题，为什么我第三次日更，能坚持下来？我做了什么不一样的事情？\n",
            "答案是：我想清楚了，写作的意义。\n",
            "也就是，我为什么要写作？\n",
            "因为只有想清楚「为什么要写」，\n",
            "写什么，和如何写，才能更有方向，更有效率。\n",
            "我们也才会更有动力，更有能量，更有信心，更有耐心，更满心欢喜的去写。\n",
            "而不是把它，当成一个「为了写作而写作」的任务。\n",
            "3 写作对我的意义\n",
            "其实前面第 10 -17 节，就是在就写作的意义。\n",
            "总结起来就是，写作能帮助我们 ——\n",
            "提升学习能力、思考能力、用户视角、销售能力\n",
            "让我们能量变得更强，心态变的更好，\n",
            "提高 10 倍赚钱效率，构建一个复利收入系统\n",
            "听起来很虚?\n",
            "确实很虚。\n",
            "因为，这些能力，没法立刻变成收益，比如粉丝、广告、变现等等。\n",
            "它只有在未来，才能帮助我们做出更多，有难度的事情，进而获得收入。\n",
            "还有更虚的，写作能帮助我们，更有耐心、勇气、毅力、积极、自信……\n",
            "看到这里，可能有同学都不耐烦了：我想听怎么快速涨粉，怎么快速打造个人IP？你却给我讲，提升学习能力，还讲耐心、勇气？\n",
            "嗯，是的。\n",
            "因为，后者，是前者的基础、前提。\n",
            "也就是，上面 4 个能力和耐心、勇气……，是涨粉、广告、变现的前提。\n",
            "这是逻辑，不是鸡汤 ——\n",
            "要涨粉，核心是文章质量高，能提供价值，这样读者才愿意关注。\n",
            "那怎么才能让文章提供价值？\n",
            "靠什么？\n",
            "靠学习、靠思考、靠了解读者 —— 能力\n",
            "靠长期刻意练习，熟能生巧 —— 耐心、勇气……\n",
            "理解这点，你就能明白，为什么很多人写了一段时间，就写不下去了的核心原因。\n",
            "因为他从一开始，就本末倒置了。\n",
            "正确的的逻辑是 ——\n",
            "你每写一篇文章，虽然没赞赏，没转发，甚至没阅读，但它让你某方面能力提升了。\n",
            "那这篇文章，就必然会在未来，帮你赚到很多钱。\n",
            "这叫做，以终为始，活在未来 ——\n",
            "你知道，未来赚钱，需要什么能力。\n",
            "你从现在开始，通过写作，锻炼这些能力（这是一个客观事实）。\n",
            "那你未来，就必然能赚到钱。\n",
            "还是那句话，这是逻辑，不是鸡汤。\n",
            "想通了，这个未来就会每天给你提供源源不断的能量，激励你每天去写，一直走到未来。\n",
            "想不通，就大概率会浅尝辄止，半途而废。\n",
            "这不止适用于写作，也适用于其他各个方面，比如，读书、演讲、编程等等。\n",
            "那如何才能想通？\n",
            "答案是：重复多次，内化到大脑里。\n",
            "拿写作来说，\n",
            "你可以去你喜欢的公众号作者、书、朋友、高手、大佬、得到、微信读书里，搜他们对写作的看法，描述写作的好处。\n",
            "把你有感触的句子、文章、段落，全部整理到一个文档里，每天读一遍，甚至有时间就看一遍。\n",
            "我的方法是，贴在墙上，随时看。\n",
            "看的多了，有奇效。\n",
            "这是一个人能持续输出，最重要、最底层、最核心的一个原因。\n",
            "\n",
            "写作基础第12课： 你的个人能力，决定了文章价值\n",
            "很多同学写作时，都会苦恼一个问题：我该写什么？\n",
            "写自己的生活、思考？好像对别人没价值，读者不会喜欢。\n",
            "写专业内容？自己好像能力不够。\n",
            "追热点？不喜欢这种形式。\n",
            "于是，写作这件事，就慢慢不了了之了。\n",
            "这 3 个问题，我在日更初期，也全部经历过。\n",
            "后来，经过学习、思考、实践，我总结出一条，适合普通人，且能让自己持续成长的路径。\n",
            "1 一切智慧都在历史当中\n",
            "每当我要做一件事情，但不会做，或者没头绪，我都会想到这句话 ——\n",
            "一切智慧都在历史当中：我们遇到的一切问题，都一定有前人遇到过，并且已经解决掉，记录了下来。我们要做的，就是找到这些内容，学习、思考、吸收。它就能帮助我们解决问题。\n",
            "我最初日更时，也经常烦恼，不知道该写啥。\n",
            "于是，我就研究了一些，日更做的比较好的前辈，看他们是如何解决这个问题的。\n",
            "主要是 2 个老师 ——\n",
            "Scalers\n",
            "辉哥\n",
            "最后，真的找到了解决方案，然后就一直写了下来。\n",
            "而且我发现，这两个老师的思路，底层都是同一个逻辑。\n",
            "2 辉哥和 Scalers 的日更思路\n",
            "我在辉哥星球里，看到过 2 个帖子 ——\n",
            "辉哥说 ——\n",
            "我们可以从自身问题，发现更多人同样的问题，我们可以以解决更多人问题为出发点，推动我们创造更多的价值，让所有与我们遭遇同样痛苦的人受益。这样，我们在服务大众的前提下，顺手解决了小我的问题。\n",
            "我在 Scalers 老师的《持续行动》中，也读到过一句话 —— 如果你是一个会思考的人，那你的思考本身就有许多价值，你要做的就是根据条理呈现出来。\n",
            "很长一段时间，这句话都被我打印出来，贴在墙上，每次写文章都看一遍。\n",
            "这 2 位老师的思路，就是我现在一直运用的日更策略。\n",
            "具体如何做？\n",
            "3 写作，先为自己而写\n",
            "以前我写文章时，经常会去思考：读者到底喜欢看什么？我写什么东西，能提供价值？\n",
            "但我发现，即便自己想了很久，写出来的文章效果依然不好。\n",
            "因为，在写作这件事上：文章价值和能力是成正比的。\n",
            "也就是，\n",
            "一个人知识多、能力强，文章自然就有价值。\n",
            "一个知识少，能力弱，他再怎么写，用各种技巧、话术等，文章还是没价值。\n",
            "所以，我想清楚了，当自己能力不够，用户视角不够强时，我没法知道读者需要什么。那当然，我就没法给读者提供价值。\n",
            "这时候，如果我硬逼着自己，给别人提供「价值」，那写出来的文章，更可能是自嗨。\n",
            "最后的结果，就是我会有一种「我写的这么好，他们怎么不识货」的挫败感，就更可能半途而废。\n",
            "于是，我根据辉哥和 Scalers 的方法，换了一个思路。\n",
            "每次写文章时，我会从自身出发思考 ——\n",
            "1 我工作遇到哪些问题，别人是否有这样的问题？\n",
            "2 我学到哪些知识，别人是否需要这些知识？\n",
            "3 我思考了哪些问题，别人是有这些问题？\n",
            "4 我遇到什么情绪问题，别人是否有这些情绪问题？\n",
            "5 我赚钱路上遇到什么障碍，别人是否也会遇到这些障碍？\n",
            "6 ……\n",
            "于是，我写一篇文章的过程，就是自己解决问题的过程，这样既让自己得到成长，也能帮别人解决问题，提供价值，一举两得。\n",
            "虽然一开始，自己的内容很浅，只对部分人有价值，但最起码这能让自己进步。\n",
            "而一个人，只要愿意持续写，那写作就会倒逼他，读更多书、思考更多问题、做更多研究。\n",
            "那他必然会进步很快：知识、能力都会快速提升。\n",
            "自己进步了，就能做更多事情，遇到更多问题，然后解决更多问题。于是能写的内容范围就更大，也就会对更多人有价值。\n",
            "所以，当你刚开始学习写作时，不用专门去想，读者需要什么？读者喜欢看什么？\n",
            "不是说这些问题不重要，而是在起步阶段，我们想不清楚这些问题，所以想了也没用。反而会让自己有挫败感，更容易放弃写作。\n",
            "就写自己的问题、自己的思考、自己的经历，\n",
            "先让自己进步，然后在过程中不断接收用户反馈，\n",
            "慢慢的，自己成长了，\n",
            "文章就自然才能给别人提供真正的价值。\n",
            "\n"
          ]
        }
      ]
    },
    {
      "cell_type": "markdown",
      "source": [
        "这个用户提示为语言模型提供了具体的指令:\n",
        "它指示模型使用<context>标签中的信息来回答问题。\n",
        "{context}是一个占位符,将被从Milvus检索到的相关文档填充。\n",
        "{question}是一个占位符,将被用户的具体问题替换。\n",
        "这种提示结构的设计目的是:\n",
        "为语言模型定义系统级行为(作为能回答问题的AI助手)。\n",
        "提供一个结构化的格式,将检索到的上下文信息和用户问题传递给模型。\n",
        "指导模型使用提供的上下文来回答特定问题,而不是依赖其预训练知识。\n",
        "这种方法结合了检索增强生成(RAG)技术,通过从Milvus检索相关文档来增强语言模型的回答能力。"
      ],
      "metadata": {
        "id": "_RL7CPaBuhYj"
      }
    },
    {
      "cell_type": "code",
      "source": [
        "SYSTEM_PROMPT = \"\"\"\n",
        "Human: You are an AI assistant. You are able to find answers to the questions from the contextual passage snippets provided.\n",
        "\"\"\"\n",
        "USER_PROMPT = f\"\"\"\n",
        "Use the following pieces of information enclosed in <context> tags to provide an answer to the question enclosed in <question> tags. Reply in Chinese\n",
        "<context>\n",
        "{context}\n",
        "</context>\n",
        "<question>\n",
        "{question}\n",
        "</question>\n",
        "\"\"\"\n"
      ],
      "metadata": {
        "id": "9NX5io3WePSS"
      },
      "execution_count": 155,
      "outputs": []
    },
    {
      "cell_type": "code",
      "source": [
        "response = openai_client.chat.completions.create(\n",
        "    model=\"gpt-3.5-turbo\",\n",
        "    messages=[\n",
        "        {\"role\": \"system\", \"content\": SYSTEM_PROMPT},\n",
        "        {\"role\": \"user\", \"content\": USER_PROMPT},\n",
        "    ],\n",
        ")\n",
        "print(response.choices[0].message.content)\n"
      ],
      "metadata": {
        "colab": {
          "base_uri": "https://localhost:8080/"
        },
        "id": "gL9ZWuVOeTIu",
        "outputId": "cdcc7916-240f-4780-b271-091192b458a0"
      },
      "execution_count": 156,
      "outputs": [
        {
          "output_type": "stream",
          "name": "stdout",
          "text": [
            "写作对于普通人来说，是一个重要的基础技能。通过写作，可以提高赚钱效率和概率，促进个人成长和提升。通过深入思考写作的意义和价值，可以帮助人们更有方向、更有效率地写作，并从中获得更大的收益。写作不仅仅是一种技能，更是一个系统，需要输入、思考、输出等多个因素相结合。通过持续写作，一个人的能力和价值也会不断提高，最终实现个人成长和收益的目标。\n"
          ]
        }
      ]
    }
  ]
}